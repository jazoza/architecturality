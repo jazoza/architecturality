{
 "cells": [
  {
   "cell_type": "markdown",
   "metadata": {},
   "source": [
    "# 03 | Tweets analysis\n",
    "\n",
    "\n",
    "## PREPARE THE TWEETS"
   ]
  },
  {
   "cell_type": "markdown",
   "metadata": {},
   "source": [
    "### Preprocessing functions (Twitter specific)\n",
    "\n",
    "Separate in 'tokens', translate special characters and special expressions (emoticons), remove stopwords. Below are some basic preprocessing functions:"
   ]
  },
  {
   "cell_type": "code",
   "execution_count": 1,
   "metadata": {
    "collapsed": true
   },
   "outputs": [],
   "source": [
    "import pandas as pd\n",
    "from os import listdir\n",
    "from os.path import isfile, join\n",
    "\n",
    "import json, re, operator, string, nltk\n",
    "from nltk.tokenize import word_tokenize\n",
    "\n",
    "emoticons_str = r\"\"\"\n",
    "    (?:\n",
    "        [:=;] # Eyes\n",
    "        [oO\\-]? # Nose (optional)\n",
    "        [D\\)\\]\\(\\]/\\\\OpP] # Mouth\n",
    "    )\"\"\"\n",
    "\n",
    "regex_str = [\n",
    "    emoticons_str,\n",
    "    r'<[^>]+>', # HTML tags\n",
    "    r'(?:@[\\w_]+)', # @-mentions\n",
    "    r\"(?:\\#+[\\w_]+[\\w\\'_\\-]*[\\w_]+)\", # hash-tags\n",
    "    r'http[s]?://(?:[a-z]|[0-9]|[$-_@.&amp;+]|[!*\\(\\),]|(?:%[0-9a-f][0-9a-f]))+', # URLs\n",
    "\n",
    "    r'(?:(?:\\d+,?)+(?:\\.?\\d+)?)', # numbers\n",
    "    r\"(?:[a-z][a-z'\\-_]+[a-z])\", # words with - and '\n",
    "    r'(?:[\\w_]+)', # other words\n",
    "    r'(?:\\S)' # anything else\n",
    "]\n",
    "\n",
    "tokens_re = re.compile(r'('+'|'.join(regex_str)+')', re.VERBOSE | re.IGNORECASE)\n",
    "emoticon_re = re.compile(r'^'+emoticons_str+'$', re.VERBOSE | re.IGNORECASE)\n",
    "\n",
    "def tokenize(s):\n",
    "    return tokens_re.findall(s)\n",
    "\n",
    "def preprocess(s, lowercase=False):\n",
    "    tokens = tokenize(s)\n",
    "    if lowercase:\n",
    "        tokens = [token if emoticon_re.search(token) else token.lower() for token in tokens]\n",
    "    return tokens"
   ]
  },
  {
   "cell_type": "markdown",
   "metadata": {},
   "source": [
    "### Loading the tweets > SCRAPING\n",
    "\n",
    "Downloading all tweets from a list of users; storing userID, text, timestamp\n",
    "\n",
    "The first analysis on the text is made using the tweet text, which has been imported from the eight .csv files collected with the scraping script."
   ]
  },
  {
   "cell_type": "code",
   "execution_count": 28,
   "metadata": {},
   "outputs": [
    {
     "name": "stdout",
     "output_type": "stream",
     "text": [
      "                                          id           created_at  \\\n",
      "iperezarnal_tweets.csv 0  926568933259382784  2017-11-03 21:57:03   \n",
      "                       1  926380962979737605  2017-11-03 09:30:07   \n",
      "                       2  926376863160729602  2017-11-03 09:13:50   \n",
      "                       3  926347531746992129  2017-11-03 07:17:16   \n",
      "                       4  926207577008103424  2017-11-02 22:01:09   \n",
      "\n",
      "                                                                       text  \n",
      "iperezarnal_tweets.csv 0  b'Tenemos 42 nuevos seguidores, desde Alemania...  \n",
      "                       1  b'Blockchain Investment Trends In Review https...  \n",
      "                       2  b'RT @BIMCommunity: La necesidad de monitoriza...  \n",
      "                       3  b'#HomoDigitalis: Wie die Digitalisierung Freu...  \n",
      "                       4  b'RT @AsidekAutodesk: Generar renderizaciones ...  \n"
     ]
    }
   ],
   "source": [
    "# load .csv files created by SCRAPING\n",
    "files = [f for f in listdir('Twitter_SCRAPING/scraped/') if f.endswith('.csv') and isfile(join('Twitter_SCRAPING/scraped/', f))]\n",
    "d_scrape = pd.concat([pd.read_csv('Twitter_SCRAPING/scraped/'+f, encoding='utf-8') for f in files], keys=files)\n",
    "print(d_scrape.head())"
   ]
  },
  {
   "cell_type": "markdown",
   "metadata": {},
   "source": [
    "Peprocess the tweet text and create a string of tweet words to analyse for word frequency and keywords."
   ]
  },
  {
   "cell_type": "code",
   "execution_count": 29,
   "metadata": {},
   "outputs": [
    {
     "name": "stdout",
     "output_type": "stream",
     "text": [
      "[\"b'Google developing SDK to make Android the standard for\\\\xa0wearables http://t.co/QriQSrwbgY via @VentureBeat #android #wearables'\"]\n"
     ]
    }
   ],
   "source": [
    "# convert the text column from the dataframe to a string\n",
    "tweets_l_scrape = d_scrape['text'].tolist() # create a list from 'text' column in d dataframe\n",
    "print(tweets_l_scrape[-1:])"
   ]
  },
  {
   "cell_type": "markdown",
   "metadata": {},
   "source": [
    "### Loading the tweets > STREAMING: PROFILES\n",
    "\n",
    "Prograsivelly stream all tweets from a list of users; gathers all available data and metadata into a .json file\n",
    "\n",
    "The second, or parallel analysis is made on the text of tweets which are imported from a collection of tweets from profiles. "
   ]
  },
  {
   "cell_type": "code",
   "execution_count": 2,
   "metadata": {},
   "outputs": [
    {
     "name": "stdout",
     "output_type": "stream",
     "text": [
      "['@markasaurus @eparillon I have 2 out of 3 now!']\n"
     ]
    }
   ],
   "source": [
    "# load .json files created by STREAMING\n",
    "#files = [f for f in listdir('Twitter_SCRAPING/profile/') if f.endswith('.json') and isfile(join('Twitter_SCRAPING/profile/', f))]\n",
    "#d_stream_profiles = pd.concat([pd.read_json('Twitter_SCRAPING/profile'+f, lines=True) for f in files], keys=files)\n",
    "d_stream_profiles = pd.read_json('Twitter_SCRAPING/profile_tweets.json', lines=True)\n",
    "# convert the text column from the dataframe to a string\n",
    "tweets_l_stream_profiles = d_stream_profiles['text'].tolist() # create a list from 'text' column in d dataframe\n",
    "print(tweets_l_stream_profiles[-1:])"
   ]
  },
  {
   "cell_type": "markdown",
   "metadata": {},
   "source": [
    "### Loading the tweets > STREAMING: KEYWORDS\n",
    "\n",
    "Prograsivelly stream all tweets from a list of users; gathers all available data and metadata into a .json file\n",
    "\n",
    "The second, or parallel analysis is made on the text of tweets which are imported from a collection of tweets from profiles. "
   ]
  },
  {
   "cell_type": "code",
   "execution_count": 8,
   "metadata": {},
   "outputs": [
    {
     "name": "stdout",
     "output_type": "stream",
     "text": [
      "['#Ascurra #AvBrasilia #SantaCatarina #IoT #SSP #Comunidade https://t.co/Ru05nqG3Mc']\n"
     ]
    }
   ],
   "source": [
    "# load .json files created by STREAMING\n",
    "#files = [f for f in listdir('Twitter_SCRAPING/') if f.endswith('.json') and isfile(join('Twitter_SCRAPING/', f))]\n",
    "#d_stream = pd.concat([pd.read_json(f, lines=True) for f in files], keys=files)\n",
    "d_stream_keywords = pd.read_json('Twitter_SCRAPING/keyword_tweets.json', lines=True)\n",
    "# convert the text column from the dataframe to a string\n",
    "tweets_l_stream_keywords = d_stream_keywords['text'].tolist() # create a list from 'text' column in d dataframe\n",
    "print(tweets_l_stream_keywords[-1:])"
   ]
  },
  {
   "cell_type": "markdown",
   "metadata": {},
   "source": [
    "## 1) Word Frequencies and Wordclouds\n",
    "\n",
    "Import the necessary libraries and lists of stopwords."
   ]
  },
  {
   "cell_type": "code",
   "execution_count": 3,
   "metadata": {
    "collapsed": true
   },
   "outputs": [],
   "source": [
    "from nltk.corpus import stopwords\n",
    "from collections import Counter, defaultdict\n",
    "from itertools import chain\n",
    "from nltk.probability import FreqDist\n",
    "from nltk import bigrams \n",
    "\n",
    "import numpy as np\n",
    "import matplotlib.pyplot as plt\n",
    "\n",
    "#stopwords\n",
    "with open(\"Twitter_MINING/twitter-sentiment-analysis-stopwords.txt\", 'rb') as f:\n",
    "    twitterstop = [str(word.strip(), 'utf-8') for word in f.readlines()]\n",
    "stop = stopwords.words('english') + list(string.punctuation) + twitterstop"
   ]
  },
  {
   "cell_type": "code",
   "execution_count": 4,
   "metadata": {
    "collapsed": true
   },
   "outputs": [],
   "source": [
    "# Frequency function\n",
    "def count_freq(tweet_list):\n",
    "    corpus = []\n",
    "    text_terms = [term for term in preprocess(' '.join(map(str, tweet_list)))]\n",
    "    all_tokens = [x.lower() for x in text_terms]\n",
    "    # Count All Tokens\n",
    "    tokens_number = len(all_tokens)\n",
    "    corpus.append(('total tokens', tokens_number)) # update corpus comparison\n",
    "    print('Total number of words in the collection: ', tokens_number)\n",
    "    # remove stop words\n",
    "    words = [term for term in all_tokens if term not in stop and not term.startswith('http') and len(term)>2]\n",
    "    corpus.append(('meaningful words', len(words))) # update corpus comparison\n",
    "    print('Total number of meaningful words (without stopwords and links): ', len(words))\n",
    "    # LEMMATIZATION (Optional)\n",
    "    #porter = nltk.PorterStemmer()\n",
    "    #words_stemmed = [porter.stem(term) for term in words]\n",
    "    #print('Total number of meaningful words, stemmed: ', len(words_scrape_stemmed))\n",
    "    # Count terms only once, equivalent to Document Frequency\n",
    "    unique_words = set(words)\n",
    "    corpus.append(('unique words', len(unique_words))) # update corpus comparison\n",
    "    print('Number of unique terms: ', len(unique_words))\n",
    "    return words, corpus"
   ]
  },
  {
   "cell_type": "markdown",
   "metadata": {},
   "source": [
    "### Word Frequency > SCRAPING\n",
    "\n",
    "Prepare a list of all words in tweets (including mentions, hashtags, links, excluding stop words). This is going to be amore concentrated, less diverse discourse, as the selection is of 8 profiles only and they were a preselected group that determined keywords to listen to. "
   ]
  },
  {
   "cell_type": "code",
   "execution_count": null,
   "metadata": {
    "collapsed": true
   },
   "outputs": [],
   "source": [
    "words_scrape, corups_tweets_scraped = count_freq(tweets_l_scrape)\n",
    "wordfreq = FreqDist(words_scrape)\n",
    "print('The 100 most frequent terms, including special terms: ', wordfreq.most_common(100))"
   ]
  },
  {
   "cell_type": "code",
   "execution_count": 8,
   "metadata": {},
   "outputs": [
    {
     "name": "stdout",
     "output_type": "stream",
     "text": [
      "The number of words only (no hashtags, no mentions):  15375181\n"
     ]
    }
   ],
   "source": [
    "# Count terms only (no hashtags, no mentions)\n",
    "words_only_scrape = [term for term in words_scrape if not term.startswith('#') and not term.startswith('@')]\n",
    "print('The number of words only (no hashtags, no mentions): ', len(words_only_scrape))"
   ]
  },
  {
   "cell_type": "code",
   "execution_count": 9,
   "metadata": {
    "scrolled": true
   },
   "outputs": [
    {
     "name": "stdout",
     "output_type": "stream",
     "text": [
      "The 20 most frequent terms (terms only):  [('bim', 93889), ('design', 71353), ('time', 48625), ('thanks', 47271), ('big', 45457), ('great', 45058), ('project', 44306), ('architecture', 42038), ('one', 41889), ('like', 41429), ('today', 40879), ('archispeak', 39864), ('see', 37158), ('future', 36998), ('day', 36648), ('data', 35350), ('good', 33026), ('work', 32827), ('building', 32782), ('podcast', 32468)]\n"
     ]
    }
   ],
   "source": [
    "# Word frequency for terms only (no hashtags, no mentions)\n",
    "words_only_scrape_freq = FreqDist(words_only_scrape)\n",
    "print('The 20 most frequent terms (terms only): ', words_only_scrape_freq.most_common(20))"
   ]
  },
  {
   "cell_type": "code",
   "execution_count": 12,
   "metadata": {
    "scrolled": false
   },
   "outputs": [
    {
     "name": "stdout",
     "output_type": "stream",
     "text": [
      "Total number of words in the collection:  45029942\n",
      "Total number of meaningful words (without stopwords and links):  20695119\n",
      "Number of unique terms:  33169\n",
      "[('total tokens', 45029942), ('meaningful words', 20695119), ('unique words', 33169)]\n"
     ]
    }
   ],
   "source": [
    "# Count hashtags only\n",
    "\n",
    "words_hash_scrape = [term for term in words_scrape if term.startswith('#')]\n",
    "corpus_tweets_scraped.append(('hashtags', len(words_hash_scrape))) # update corpus comparison\n",
    "print('Total number of hashtags: ', len(words_hash_scrape)) #, set(terms_hash_stream))"
   ]
  },
  {
   "cell_type": "code",
   "execution_count": 15,
   "metadata": {},
   "outputs": [
    {
     "name": "stdout",
     "output_type": "stream",
     "text": [
      "Total number of mentions:  2983700\n"
     ]
    }
   ],
   "source": [
    "# Count mentions only\n",
    "words_mention_scrape = [term for term in words_scrape if term.startswith('@')]\n",
    "corpus_tweets_scraped.append(('mentions', len(words_mention_scrape))) # update corpus comparison\n",
    "print('Total number of mentions: ', len(words_mention_scrape)) #, set(terms_mention_stream))"
   ]
  },
  {
   "cell_type": "code",
   "execution_count": 16,
   "metadata": {},
   "outputs": [
    {
     "name": "stdout",
     "output_type": "stream",
     "text": [
      "20 most common mentions:  [('@bjarkeingels', 194941), ('@case_inc', 82347), ('@dynamobim', 65243), ('@archispk', 62263), ('@archinate', 58684), ('@provinggroundio', 46266), ('@brianringley', 37765), ('@bimcommunity', 36996), ('@bimsummit', 35787), ('@npann', 32767), ('@archy_type', 28841), ('@bigstertweets', 27362), ('@ikeough', 26276), ('@zachkron', 23863), ('@randydeutsch', 22821), ('@andrewheumann', 20843), ('@etroxel', 19532), ('@entrearchitect', 19177), ('@iperezarnal', 17215), ('@serpentineuk', 16761)]\n",
      "20 most common hashtags:  [('#bim', 161037), ('#architecture', 56337), ('#design', 47153), ('#gh3d', 47035), ('#3dprint', 34683), ('#computation', 30690), ('#dynamo', 23256), ('#revit', 22964), ('#data', 19076), ('#synbio', 17568), ('#omaha', 15912), ('#construction', 15856), ('#robots', 13592), ('#nexthuman', 13137), ('#nextcolony', 12986), ('#robot', 12788), ('#dynamobim', 12383), ('#nextdesign', 12080), ('#arehacks', 11627), ('#ai', 11023)]\n"
     ]
    }
   ],
   "source": [
    "# Mentions and Hashtags frequency\n",
    "mentionsfreq = FreqDist(words_mention_scrape)\n",
    "print(\"20 most common mentions: \", mentionsfreq.most_common(20))\n",
    "hashfreq = FreqDist(words_hash_scrape)\n",
    "print(\"20 most common hashtags: \", hashfreq.most_common(20))"
   ]
  },
  {
   "cell_type": "code",
   "execution_count": 193,
   "metadata": {},
   "outputs": [
    {
     "data": {
      "image/png": "[encoded data removed]",
      "text/plain": [
       "<matplotlib.figure.Figure at 0x1bfe83def0>"
      ]
     },
     "metadata": {},
     "output_type": "display_data"
    }
   ],
   "source": [
    "popularwords = words_only_scrape_freq.most_common(30)\n",
    "\n",
    "labels, values = zip(*popularwords)\n",
    "#print(labels, values)\n",
    "# sort your values in descending order\n",
    "indSort = np.argsort(values)[::-1]\n",
    "# rearrange your data\n",
    "labels = np.array(labels)[indSort]\n",
    "values = np.array(values)[indSort]\n",
    "indexes = np.arange(len(labels))\n",
    "bar_width = 0.35\n",
    "plt.bar(indexes, values, color='#FF9653')\n",
    "# add labels\n",
    "plt.xticks(indexes + bar_width, labels, rotation='vertical')\n",
    "plt.show()"
   ]
  },
  {
   "cell_type": "markdown",
   "metadata": {},
   "source": [
    "### Word Frequency > STREAMING: PROFILES\n",
    "\n",
    "Prepare a list of all words in tweets (including mentions, hashtags, links, excluding stop words)"
   ]
  },
  {
   "cell_type": "code",
   "execution_count": 10,
   "metadata": {},
   "outputs": [
    {
     "name": "stdout",
     "output_type": "stream",
     "text": [
      "Total number of words in the collection:  232685\n",
      "Total number of meaningful words (without stopwords and links):  109123\n",
      "Number of unique terms:  16716\n",
      "The 100 most frequent terms, including special terms:  [('#bim', 1254), ('@autodesk', 927), ('@algoritmic', 708), ('bim', 690), ('@theb1m', 667), ('#construction', 631), ('#revit', 530), ('@markasaurus', 520), ('design', 469), ('building', 380), ('@randydeutsch', 372), ('help', 339), ('@autodeskrevit', 335), ('@autodeskhelp', 326), ('see', 315), ('video', 296), ('2017', 294), ('@bentleysystems', 291), ('one', 289), ('using', 286), ('make', 283), ('great', 269), ('people', 262), ('autodesk', 257), ('@autocad', 254), ('autocad', 250), ('@elrondburrell', 230), ('thanks', 224), ('like', 224), ('@thespacesmag', 224), ('time', 218), ('learn', 217), ('#aec', 215), ('work', 212), ('project', 211), ('construction', 210), ('revit', 210), ('field', 207), ('world', 205), ('@bimchannel', 204), ('look', 203), ('know', 200), ('future', 193), ('@bimsummit', 190), ('buildings', 190), ('first', 189), ('@bimireland', 188), ('software', 184), ('@autodesku', 180), ('watch', 169), ('#passivhaus', 168), ('today', 168), ('2018', 167), ('architecture', 165), ('industry', 164), ('data', 161), ('find', 160), ('@aewarchitects', 158), ('best', 158), ('nan', 156), ('join', 155), ('projects', 155), ('day', 154), ('read', 153), ('check', 145), ('#architecture', 143), ('may', 142), ('build', 142), (\"don't\", 142), ('free', 136), ('live', 135), ('explains', 133), ('hear', 133), ('take', 130), ('way', 128), ('good', 127), ('open', 127), ('house', 126), ('technology', 125), ('digital', 124), ('never', 123), ('drawings', 122), ('full', 120), ('reality', 119), ('right', 119), ('please', 117), ('play', 117), ('love', 115), ('tool', 115), ('years', 115), ('looking', 114), ('still', 113), ('@qbimgest', 113), (\"world's\", 112), ('making', 111), ('used', 111), ('@crassociati', 110), ('housing', 109), ('@pbc_today', 108), ('change', 108)]\n"
     ]
    }
   ],
   "source": [
    "words_sp, corpus_tweets_streamed_profile = count_freq(tweets_l_stream_profiles)\n",
    "words_sp_freq = FreqDist(words_sp)\n",
    "print('The 100 most frequent terms, including special terms: ', words_sp_freq.most_common(100))"
   ]
  },
  {
   "cell_type": "code",
   "execution_count": 8,
   "metadata": {},
   "outputs": [
    {
     "name": "stdout",
     "output_type": "stream",
     "text": [
      "The number of words only (no hashtags, no mentions):  82662\n"
     ]
    }
   ],
   "source": [
    "# Count terms only (no hashtags, no mentions)\n",
    "words_only_sp = [term for term in words_sp if not term.startswith('#') and not term.startswith('@')]\n",
    "corpus_tweets_streamed_profile.append(('words', len(words_only_sp))) # update corpus comparison\n",
    "print('The number of words only (no hashtags, no mentions): ', len(words_only_sp))"
   ]
  },
  {
   "cell_type": "code",
   "execution_count": 9,
   "metadata": {
    "scrolled": true
   },
   "outputs": [
    {
     "name": "stdout",
     "output_type": "stream",
     "text": [
      "The 100 most frequent terms (terms only):  [('bim', 690), ('design', 469), ('building', 380), ('help', 339), ('see', 315), ('video', 296), ('2017', 294), ('one', 289), ('using', 286), ('make', 283), ('great', 269), ('people', 262), ('autodesk', 257), ('autocad', 250), ('thanks', 224), ('like', 224), ('time', 218), ('learn', 217), ('work', 212), ('project', 211)]\n"
     ]
    }
   ],
   "source": [
    "# Word frequency for terms only (no hashtags, no mentions)\n",
    "words_only_sp_freq = FreqDist(words_only_sp)\n",
    "print('The 100 most frequent terms (terms only): ', words_only_sp_freq.most_common(20))"
   ]
  },
  {
   "cell_type": "code",
   "execution_count": 10,
   "metadata": {
    "scrolled": false
   },
   "outputs": [
    {
     "name": "stdout",
     "output_type": "stream",
     "text": [
      "List and total number of hashtags:  9275\n"
     ]
    }
   ],
   "source": [
    "# Count hashtags only\n",
    "words_hash_sp = [term for term in words_sp if term.startswith('#')]\n",
    "corpus_tweets_streamed_profile.append(('hashtags', len(words_hash_sp))) # update corpus comparison\n",
    "print('List and total number of hashtags: ', len(words_hash_sp)) #, set(terms_hash_stream))"
   ]
  },
  {
   "cell_type": "code",
   "execution_count": 11,
   "metadata": {},
   "outputs": [
    {
     "name": "stdout",
     "output_type": "stream",
     "text": [
      "List and total number of mentions:  3138\n"
     ]
    }
   ],
   "source": [
    "# Count mentions only\n",
    "words_mention_sp = [term for term in words_sp if term.startswith('@')]\n",
    "corpus_tweets_streamed_profile.append(('mentions', len(words_mention_sp))) # update corpus comparison\n",
    "print('List and total number of mentions: ', len(set(words_mention_sp))) #, set(terms_mention_stream))"
   ]
  },
  {
   "cell_type": "code",
   "execution_count": 12,
   "metadata": {},
   "outputs": [
    {
     "name": "stdout",
     "output_type": "stream",
     "text": [
      "20 most common mentions:  [('@autodesk', 927), ('@algoritmic', 708), ('@theb1m', 667), ('@markasaurus', 520), ('@randydeutsch', 372), ('@autodeskrevit', 335), ('@autodeskhelp', 326), ('@bentleysystems', 291), ('@autocad', 254), ('@elrondburrell', 230), ('@thespacesmag', 224), ('@bimchannel', 204), ('@bimsummit', 190), ('@bimireland', 188), ('@autodesku', 180), ('@aewarchitects', 158), ('@qbimgest', 113), ('@crassociati', 110), ('@pbc_today', 108), ('@lynn_allen', 93)]\n",
      "20 most common hashtags:  [('#bim', 1254), ('#construction', 631), ('#revit', 530), ('#aec', 215), ('#passivhaus', 168), ('#architecture', 143), ('#design', 105), ('#machinelearning', 100), ('#autocad35', 98), ('#architects', 97), ('#vr', 95), ('#math', 91), ('#tbt', 90), ('#au2017', 84), ('#bimsummit', 79), ('#autocad', 68), ('#mediasummit2017', 66), ('#bsibcn2017', 54), ('#parametric', 52), ('#mathgifs', 52)]\n"
     ]
    }
   ],
   "source": [
    "# Mentions and Hashtags frequency\n",
    "mentionsfreq = FreqDist(words_mention_sp)\n",
    "print(\"20 most common mentions: \", mentionsfreq.most_common(20))\n",
    "hashfreq = FreqDist(words_hash_sp)\n",
    "print(\"20 most common hashtags: \", hashfreq.most_common(20))"
   ]
  },
  {
   "cell_type": "code",
   "execution_count": 194,
   "metadata": {},
   "outputs": [
    {
     "data": {
      "image/png": "[encoded data removed]",
      "text/plain": [
       "<matplotlib.figure.Figure at 0x1c180882e8>"
      ]
     },
     "metadata": {},
     "output_type": "display_data"
    }
   ],
   "source": [
    "import numpy as np\n",
    "import matplotlib.pyplot as plt\n",
    "\n",
    "popularwords = words_only_sp_freq.most_common(30)\n",
    "\n",
    "labels, values = zip(*popularwords)\n",
    "#print(labels, values)\n",
    "# sort your values in descending order\n",
    "indSort = np.argsort(values)[::-1]\n",
    "# rearrange your data\n",
    "labels = np.array(labels)[indSort]\n",
    "values = np.array(values)[indSort]\n",
    "indexes = np.arange(len(labels))\n",
    "bar_width = 0.35\n",
    "plt.bar(indexes, values, color='#7ED4E8')\n",
    "# add labels\n",
    "plt.xticks(indexes + bar_width, labels, rotation='vertical')\n",
    "plt.show()"
   ]
  },
  {
   "cell_type": "markdown",
   "metadata": {},
   "source": [
    "### Word Frequency > STREAMING: KEYWORDS\n",
    "\n",
    "Prepare a list of all words in tweets (including mentions, hashtags, links, excluding stop words)"
   ]
  },
  {
   "cell_type": "code",
   "execution_count": 123,
   "metadata": {},
   "outputs": [
    {
     "name": "stdout",
     "output_type": "stream",
     "text": [
      "['#infosec', '…', 'https://t.co/dppkjdv5zw', '#ascurra', '#avbrasilia', '#santacatarina', '#iot', '#ssp', '#comunidade', 'https://t.co/ru05nqg3mc']\n"
     ]
    }
   ],
   "source": [
    "words_sk, corups_tweets_streamed_keywords = count_freq(tweets_l_stream_keywords, corpus_tweets_streamed_keywords)\n",
    "wordfreq = FreqDist(words_sk)\n",
    "print('The 100 most frequent terms, including special terms: ', wordfreq.most_common(100))"
   ]
  },
  {
   "cell_type": "code",
   "execution_count": 124,
   "metadata": {},
   "outputs": [
    {
     "name": "stdout",
     "output_type": "stream",
     "text": [
      "Total number of words (including mentions, hashtags and links) in the collection:  236140\n"
     ]
    }
   ],
   "source": [
    "#Count All Tokens\n",
    "total_tokens_sk = len(all_tokens_sk)\n",
    "corpus_tweets_streamed_keyword.append(('total tokens', total_tokens_sk)) # update corpus comparison\n",
    "print('Total number of words (including mentions, hashtags and links) in the collection: ', total_tokens_sk)"
   ]
  },
  {
   "cell_type": "code",
   "execution_count": 125,
   "metadata": {},
   "outputs": [
    {
     "name": "stdout",
     "output_type": "stream",
     "text": [
      "Total number of meaningful words (without stopwords and links):  129812\n"
     ]
    }
   ],
   "source": [
    "# remove stop and other words, links\n",
    "words_sk = [term for term in all_tokens_sk if term not in stop and not term.startswith('http') and len(term)>2]\n",
    "corpus_tweets_streamed_keyword.append(('meaningful words', len(words_sk))) # update corpus comparison\n",
    "print('Total number of meaningful words (without stopwords and links): ', len(words_sk))"
   ]
  },
  {
   "cell_type": "code",
   "execution_count": 126,
   "metadata": {},
   "outputs": [
    {
     "name": "stdout",
     "output_type": "stream",
     "text": [
      "Number of unique terms:  17972\n"
     ]
    }
   ],
   "source": [
    "# Count terms only once, equivalent to Document Frequency\n",
    "unique_words_sk = set(words_sk)\n",
    "corpus_tweets_streamed_keyword.append(('unique words', len(unique_words_sk))) # update corpus comparison\n",
    "print('Number of unique terms: ', len(unique_words_sk))"
   ]
  },
  {
   "cell_type": "code",
   "execution_count": 127,
   "metadata": {},
   "outputs": [
    {
     "name": "stdout",
     "output_type": "stream",
     "text": [
      "The 100 most frequent terms, including special terms:  [('#iot', 5317), ('network', 3460), ('#artificialintelligence', 2413), ('#ai', 2217), ('#internetofthings', 2102), ('#iiot', 1974), ('#watson', 1710), ('#cognitive', 1699), ('#bigdata', 1644), ('#blockchain', 1344), ('#ssp', 1227), ('#comunidade', 1227), ('#ibm', 1086), ('#industrialiot', 808), ('iot', 808), ('#technology', 721), ('#business', 687), ('bully', 630), ('engagement', 617), ('#machinelearning', 590), ('ibm', 589), ('@iotrecruiting', 554), ('supply', 523), ('pay', 520), ('chain', 519), ('demo', 508), ('store', 506), ('#dl', 472), ('#ml', 469), ('#internetofthing', 436), ('digital', 421), ('data', 400), ('#tech', 390), ('@ai_iot_iiot_ioe', 389), ('commerce', 386), ('sensor', 370), ('#cybersecurity', 368), ('news', 341), ('@socialmedia_ist', 339), ('@smdominator', 330), ('#cloud', 320), ('internet', 319), ('business', 312), ('big', 297), ('@up2gu', 297), ('คนท', 297), ('มารวมต', 297), ('นเยอะมาก', 297), ('จนกลายเป', 297), ('งหว', 297), ('rum', 297), ('#fintech', 292), ('social', 269), ('manager', 265), ('insights', 255), ('transvoyant', 250), ('#intern', 249), ('power', 244), ('#interneto', 243), ('market', 241), ('@rajneeshchhabra', 228), ('security', 226), ('product', 226), ('@sachinlulla', 220), ('things', 214), ('@2018socialmedia', 214), ('#prodmgmt', 209), ('@delizalde', 206), ('ontrack', 206), ('#florianopolis', 205), ('smart', 202), ('2017', 199), ('#ioe', 198), ('today', 195), ('one', 192), ('companies', 185), ('tech', 181), ('@digital_mummy', 180), ('#bitcoin', 175), ('global', 175), ('bim', 170), ('@akanshadigital', 169), ('know', 168), ('time', 168), ('nan', 166), ('future', 164), ('#digitaltransformation', 163), ('world', 163), ('apis', 160), ('join', 155), ('#vr', 154), ('#analytics', 151), ('@sunnyraydigital', 150), ('#internet', 150), ('workspace', 145), ('day', 143), ('tips', 140), ('people', 135), ('largest', 135), ('customer', 131)]\n"
     ]
    }
   ],
   "source": [
    "#Word frequency for all terms (including hashtags and mentions)\n",
    "wordfreq = FreqDist(words_sk)\n",
    "print('The 100 most frequent terms, including special terms: ', wordfreq.most_common(100))"
   ]
  },
  {
   "cell_type": "code",
   "execution_count": 129,
   "metadata": {},
   "outputs": [
    {
     "name": "stdout",
     "output_type": "stream",
     "text": [
      "The number of words only (no hashtags, no mentions):  74049\n"
     ]
    }
   ],
   "source": [
    "# Count terms only (no hashtags, no mentions)\n",
    "words_only_sk = [term for term in words_sk if not term.startswith('#') and not term.startswith('@')]\n",
    "corpus_tweets_streamed_keyword.append(('words', len(words_only_sk))) # update corpus comparison\n",
    "print('The number of words only (no hashtags, no mentions): ', len(words_only_sk))"
   ]
  },
  {
   "cell_type": "code",
   "execution_count": 131,
   "metadata": {
    "scrolled": true
   },
   "outputs": [
    {
     "name": "stdout",
     "output_type": "stream",
     "text": [
      "The 100 most frequent terms (terms only):  [('network', 3460), ('iot', 808), ('bully', 630), ('engagement', 617), ('ibm', 589), ('supply', 523), ('pay', 520), ('chain', 519), ('demo', 508), ('store', 506), ('digital', 421), ('data', 400), ('commerce', 386), ('sensor', 370), ('news', 341), ('internet', 319), ('business', 312), ('big', 297), ('คนท', 297), ('มารวมต', 297), ('นเยอะมาก', 297), ('จนกลายเป', 297), ('งหว', 297), ('rum', 297), ('social', 269), ('manager', 265), ('insights', 255), ('transvoyant', 250), ('power', 244), ('market', 241)]\n"
     ]
    }
   ],
   "source": [
    "# Word frequency for terms only (no hashtags, no mentions)\n",
    "words_only_sk_freq = FreqDist(words_only_sk)\n",
    "print('The 100 most frequent terms (terms only): ', words_only_sk_freq.most_common(30))"
   ]
  },
  {
   "cell_type": "code",
   "execution_count": 132,
   "metadata": {
    "scrolled": false
   },
   "outputs": [
    {
     "name": "stdout",
     "output_type": "stream",
     "text": [
      "List and total number of hashtags:  44576\n"
     ]
    }
   ],
   "source": [
    "# Count hashtags only\n",
    "words_hash_sk = [term for term in words_sk if term.startswith('#')]\n",
    "corpus_tweets_streamed_keyword.append(('hashtags', len(words_hash_sk))) # update corpus comparison\n",
    "print('List and total number of hashtags: ', len(words_hash_sk)) #, set(terms_hash_stream))"
   ]
  },
  {
   "cell_type": "code",
   "execution_count": 133,
   "metadata": {},
   "outputs": [
    {
     "name": "stdout",
     "output_type": "stream",
     "text": [
      "List and total number of mentions:  3114\n"
     ]
    }
   ],
   "source": [
    "# Count mentions only\n",
    "words_mention_sk = [term for term in words_sk if term.startswith('@')]\n",
    "corpus_tweets_streamed_keyword.append(('mentions', len(words_mention_sk))) # update corpus comparison\n",
    "print('List and total number of mentions: ', len(set(words_mention_sk))) #, set(terms_mention_stream))"
   ]
  },
  {
   "cell_type": "code",
   "execution_count": 134,
   "metadata": {},
   "outputs": [
    {
     "name": "stdout",
     "output_type": "stream",
     "text": [
      "20 most common mentions:  [('@iotrecruiting', 554), ('@ai_iot_iiot_ioe', 389), ('@socialmedia_ist', 339), ('@smdominator', 330), ('@up2gu', 297), ('@rajneeshchhabra', 228), ('@sachinlulla', 220), ('@2018socialmedia', 214), ('@delizalde', 206), ('@digital_mummy', 180), ('@akanshadigital', 169), ('@sunnyraydigital', 150), ('@manjeetrege', 118), ('@vertiai', 114), ('@yarmolukdan', 112), ('@mvasey', 109), ('@dollyraydigital', 104), ('@urbanmediallc', 99), ('@dollyray1987', 99), ('@sudhirchaudhary', 92)]\n",
      "20 most common hashtags:  [('#iot', 5317), ('#artificialintelligence', 2413), ('#ai', 2217), ('#internetofthings', 2102), ('#iiot', 1974), ('#watson', 1710), ('#cognitive', 1699), ('#bigdata', 1644), ('#blockchain', 1344), ('#ssp', 1227), ('#comunidade', 1227), ('#ibm', 1086), ('#industrialiot', 808), ('#technology', 721), ('#business', 687), ('#machinelearning', 590), ('#dl', 472), ('#ml', 469), ('#internetofthing', 436), ('#tech', 390)]\n"
     ]
    }
   ],
   "source": [
    "# Mentions and Hashtags frequency\n",
    "mentionsfreq = FreqDist(words_mention_sk)\n",
    "print(\"20 most common mentions: \", mentionsfreq.most_common(20))\n",
    "hashfreq = FreqDist(words_hash_sk)\n",
    "print(\"20 most common hashtags: \", hashfreq.most_common(20))"
   ]
  },
  {
   "cell_type": "code",
   "execution_count": 195,
   "metadata": {},
   "outputs": [
    {
     "data": {
      "image/png": "[encoded data removed]",
      "text/plain": [
       "<matplotlib.figure.Figure at 0x1c00ae90b8>"
      ]
     },
     "metadata": {},
     "output_type": "display_data"
    }
   ],
   "source": [
    "import numpy as np\n",
    "import matplotlib.pyplot as plt\n",
    "\n",
    "popularwords = words_only_sk_freq.most_common(30)\n",
    "\n",
    "labels, values = zip(*popularwords)\n",
    "#print(labels, values)\n",
    "# sort your values in descending order\n",
    "indSort = np.argsort(values)[::-1]\n",
    "# rearrange your data\n",
    "labels = np.array(labels)[indSort]\n",
    "values = np.array(values)[indSort]\n",
    "indexes = np.arange(len(labels))\n",
    "bar_width = 0.35\n",
    "plt.bar(indexes, values, color='#E83F9E')\n",
    "# add labels\n",
    "plt.xticks(indexes + bar_width, labels, rotation='vertical')\n",
    "plt.show()"
   ]
  },
  {
   "cell_type": "markdown",
   "metadata": {},
   "source": [
    "## Writing things down\n",
    "\n",
    "Finally, for the purpose of future research, we want to write certain information to a file: word frequency for each corpus, as well as lists and frequences for sets of hasthags and mentions."
   ]
  },
  {
   "cell_type": "code",
   "execution_count": 172,
   "metadata": {
    "collapsed": true
   },
   "outputs": [],
   "source": [
    "import pickle\n",
    "\n",
    "# word frequencies\n",
    "with open('wordfrequency_scrape.txt', 'wb') as f:\n",
    "    pickle.dump(words_only_scrape_freq.most_common(), f)\n",
    "    \n",
    "with open('wordfrequency_stream_profiles.txt', 'wb') as f:\n",
    "    pickle.dump(words_only_sp_freq.most_common(), f)\n",
    "\n",
    "with open('wordfrequency_stream_keywords.txt', 'wb') as f:\n",
    "    pickle.dump(words_only_sk_freq.most_common(), f)\n",
    "\n",
    "# hashtags\n",
    "with open('hashtags_scrape.txt', 'wb') as f:\n",
    "    pickle.dump(FreqDist(words_hash_scrape).most_common(), f)\n",
    "    \n",
    "with open('hashtags_stream_profiles.txt', 'wb') as f:\n",
    "    pickle.dump(FreqDist(words_hash_sp).most_common(), f)\n",
    "\n",
    "with open('hashtags_stream_keywords.txt', 'wb') as f:\n",
    "    pickle.dump(FreqDist(words_hash_sk).most_common(), f)\n",
    "    \n",
    "# mentions\n",
    "with open('mentions_scrape.txt', 'wb') as f:\n",
    "    pickle.dump(FreqDist(words_mention_scrape).most_common(), f)\n",
    "    \n",
    "with open('mentions_stream_profiles.txt', 'wb') as f:\n",
    "    pickle.dump(FreqDist(words_mention_sp).most_common(), f)\n",
    "\n",
    "with open('mentions_stream_keywords.txt', 'wb') as f:\n",
    "    pickle.dump(FreqDist(words_mention_sk).most_common(), f)\n",
    "    \n",
    "### to read back: \n",
    "#with open ('wordfrequency_scrape.txt', 'rb') as f:\n",
    "    #words_only_scrape_freq = pickle.load(f)\n"
   ]
  },
  {
   "cell_type": "markdown",
   "metadata": {},
   "source": [
    "### Some Corpus Structure Comparisons\n",
    "\n",
    "It might be interesting to compare the structure of the datasets (collections of tweets texts). For example, what is the representation of unique words in each set (scraped tweets, streamed tweets, using keywords or profile names)? What percentage goes on hasthags, mentions, links? Emoticons? "
   ]
  },
  {
   "cell_type": "code",
   "execution_count": 19,
   "metadata": {},
   "outputs": [
    {
     "data": {
      "text/plain": [
       "[('total tokens', 45029942),\n",
       " ('meaningful words', 20695119),\n",
       " ('unique words', 33169),\n",
       " ('hashtags', 2336238),\n",
       " ('mentions', 2983700)]"
      ]
     },
     "execution_count": 19,
     "metadata": {},
     "output_type": "execute_result"
    }
   ],
   "source": [
    "corpus_tweets_scraped"
   ]
  },
  {
   "cell_type": "code",
   "execution_count": 190,
   "metadata": {},
   "outputs": [
    {
     "name": "stdout",
     "output_type": "stream",
     "text": [
      "SCRAPED TWEETS CORPUS STRUCTURE\n",
      "['total tokens\\n45029942', 'meaningful words\\n20695119', 'unique words\\n33169', 'words\\n15375181', 'hashtags\\n2336238', 'mentions\\n2983700']\n"
     ]
    },
    {
     "data": {
      "image/png": "[encoded data removed]",
      "text/plain": [
       "<matplotlib.figure.Figure at 0x1b7dc4e3c8>"
      ]
     },
     "metadata": {},
     "output_type": "display_data"
    }
   ],
   "source": [
    "print('SCRAPED TWEETS CORPUS STRUCTURE')\n",
    "labels, values = zip(*corpus_tweets_scraped)\n",
    "labelstext = [str(lab)+str('\\n')+str(val)+str(val/) for lab,val in corpus_tweets_scraped]\n",
    "# rearrange your data\n",
    "labels = np.array(labelstext)\n",
    "values = np.array(values)\n",
    "indexes = np.arange(len(labels))\n",
    "bar_width = 0.35\n",
    "plt.bar(indexes, values, color='#FF9653')\n",
    "# add labels\n",
    "plt.xticks(indexes + bar_width, labels, rotation='vertical')\n",
    "plt.show()"
   ]
  },
  {
   "cell_type": "code",
   "execution_count": 191,
   "metadata": {},
   "outputs": [
    {
     "name": "stdout",
     "output_type": "stream",
     "text": [
      "STREAMED PROFILES TWEETS CORPUS STRUCTURE\n"
     ]
    },
    {
     "data": {
      "image/png": "[encoded data removed]",
      "text/plain": [
       "<matplotlib.figure.Figure at 0x1b7daeac88>"
      ]
     },
     "metadata": {},
     "output_type": "display_data"
    }
   ],
   "source": [
    "print('STREAMED PROFILES TWEETS CORPUS STRUCTURE')\n",
    "labels, values = zip(*corpus_tweets_streamed_profile)\n",
    "labelstext = [str(lab)+str('\\n')+str(val) for lab,val in corpus_streamed_profile]\n",
    "# rearrange your data\n",
    "labels = np.array(labelstext)\n",
    "values = np.array(values)\n",
    "indexes = np.arange(len(labels))\n",
    "bar_width = 0.35\n",
    "plt.bar(indexes, values, color='#7ED4E8')\n",
    "# add labels\n",
    "plt.xticks(indexes + bar_width, labels, rotation='vertical')\n",
    "plt.show()"
   ]
  },
  {
   "cell_type": "code",
   "execution_count": 192,
   "metadata": {},
   "outputs": [
    {
     "name": "stdout",
     "output_type": "stream",
     "text": [
      "STREAMED KEYWORDS TWEETS CORPUS STRUCTURE\n"
     ]
    },
    {
     "data": {
      "image/png": "[encoded data removed]",
      "text/plain": [
       "<matplotlib.figure.Figure at 0x1bfe6deba8>"
      ]
     },
     "metadata": {},
     "output_type": "display_data"
    }
   ],
   "source": [
    "print('STREAMED KEYWORDS TWEETS CORPUS STRUCTURE')\n",
    "labels, values = zip(*corpus_tweets_streamed_keyword)\n",
    "labelstext = [str(lab)+str('\\n')+str(val) for lab,val in corpus_tweets_streamed_keyword]\n",
    "# rearrange your data\n",
    "labels = np.array(labelstext)\n",
    "values = np.array(values)\n",
    "indexes = np.arange(len(labels))\n",
    "bar_width = 0.35\n",
    "plt.bar(indexes, values, color='#E83F9E')\n",
    "# add labels\n",
    "plt.xticks(indexes + bar_width, labels, rotation='vertical')\n",
    "plt.show()"
   ]
  },
  {
   "cell_type": "code",
   "execution_count": 197,
   "metadata": {},
   "outputs": [
    {
     "name": "stdout",
     "output_type": "stream",
     "text": [
      "CORPUSES ADDED UP\n"
     ]
    },
    {
     "data": {
      "image/png": "[encoded data removed]",
      "text/plain": [
       "<matplotlib.figure.Figure at 0x1c0097a780>"
      ]
     },
     "metadata": {},
     "output_type": "display_data"
    }
   ],
   "source": [
    "print(\"CORPUSES ADDED UP\")\n",
    "corpus_all = corpus_tweets_scraped + corpus_tweets_streamed_profile + corpus_tweets_streamed_keyword\n",
    "labels, values = zip(*corpus_all)\n",
    "labelstext = [str(lab)+str('\\n')+str(val) for lab,val in corpus_all]\n",
    "# rearrange your data\n",
    "labels = np.array(labelstext)\n",
    "values = np.array(values)\n",
    "indexes = np.arange(len(labels))\n",
    "bar_width = 0.35\n",
    "plt.bar(indexes, values, color='#5C705B')\n",
    "# add labels\n",
    "plt.xticks(indexes + bar_width, labels, rotation='vertical')\n",
    "plt.show()"
   ]
  },
  {
   "cell_type": "markdown",
   "metadata": {},
   "source": [
    "### Wordclouds\n",
    "\n",
    "Create a wordcloud from the list of tweets created with the above process. Using the [wordcloud library](https://github.com/amueller/word_cloud) by [Andreas Mueller](https://github.com/amueller)"
   ]
  },
  {
   "cell_type": "code",
   "execution_count": 142,
   "metadata": {},
   "outputs": [
    {
     "data": {
      "image/png": "[encoded data removed]",
      "text/plain": [
       "<matplotlib.figure.Figure at 0x1a0ceac080>"
      ]
     },
     "metadata": {},
     "output_type": "display_data"
    }
   ],
   "source": [
    "\"\"\" \n",
    "SCRAPED TWEETS\n",
    "\"\"\"\n",
    "from wordcloud import WordCloud\n",
    "import matplotlib.pyplot as plt\n",
    "# convert list of terms (stream_terms_only) into a string\n",
    "tweets = ' '.join(words_only_scrape)\n",
    "# specify fonts, stopwords, background color and other options\n",
    "wordcloud = WordCloud(font_path='/Users/zoza/Library/Fonts/CooperHewitt-Bold.otf',\n",
    "                          stopwords=open('Twitter_MINING/twitter-sentiment-analysis-stopwords.txt').read().split(),\n",
    "                          background_color='white',\n",
    "                          width=2400,\n",
    "                          height=2000\n",
    "                         ).generate(tweets)\n",
    "\n",
    "\n",
    "plt.imshow(wordcloud)\n",
    "plt.axis('off')\n",
    "plt.show()"
   ]
  },
  {
   "cell_type": "code",
   "execution_count": 144,
   "metadata": {},
   "outputs": [
    {
     "data": {
      "image/png": "[encoded data removed]",
      "text/plain": [
       "<matplotlib.figure.Figure at 0x1c0a16d550>"
      ]
     },
     "metadata": {},
     "output_type": "display_data"
    }
   ],
   "source": [
    "\"\"\" \n",
    "STREAMED TWEETS, PROFILES\n",
    "\"\"\"\n",
    "from wordcloud import WordCloud\n",
    "import matplotlib.pyplot as plt\n",
    "# convert list of terms (stream_terms_only) into a string\n",
    "tweets = ' '.join(words_only_sp)\n",
    "# specify fonts, stopwords, background color and other options\n",
    "wordcloud = WordCloud(font_path='/Users/zoza/Library/Fonts/CooperHewitt-Bold.otf',\n",
    "                          stopwords=open('Twitter_MINING/twitter-sentiment-analysis-stopwords.txt').read().split(),\n",
    "                          background_color='white',\n",
    "                          width=2400,\n",
    "                          height=2000\n",
    "                         ).generate(tweets)\n",
    "\n",
    "\n",
    "plt.imshow(wordcloud)\n",
    "plt.axis('off')\n",
    "plt.show()"
   ]
  },
  {
   "cell_type": "code",
   "execution_count": 145,
   "metadata": {},
   "outputs": [
    {
     "data": {
      "image/png": "[encoded data removed]",
      "text/plain": [
       "<matplotlib.figure.Figure at 0x1bfe695c18>"
      ]
     },
     "metadata": {},
     "output_type": "display_data"
    }
   ],
   "source": [
    "\"\"\" \n",
    "STREAMED TWEETS, KEYWORDS\n",
    "\"\"\"\n",
    "from wordcloud import WordCloud\n",
    "import matplotlib.pyplot as plt\n",
    "# convert list of terms (stream_terms_only) into a string\n",
    "tweets = ' '.join(words_only_sk)\n",
    "# specify fonts, stopwords, background color and other options\n",
    "wordcloud = WordCloud(font_path='/Users/zoza/Library/Fonts/CooperHewitt-Bold.otf',\n",
    "                          stopwords=open('Twitter_MINING/twitter-sentiment-analysis-stopwords.txt').read().split(),\n",
    "                          background_color='white',\n",
    "                          width=2400,\n",
    "                          height=2000\n",
    "                         ).generate(tweets)\n",
    "\n",
    "\n",
    "plt.imshow(wordcloud)\n",
    "plt.axis('off')\n",
    "plt.show()"
   ]
  },
  {
   "cell_type": "markdown",
   "metadata": {},
   "source": [
    "### Combined wordcount\n",
    "\n",
    "Combining the three corpuses, we get these as the most important words: "
   ]
  },
  {
   "cell_type": "code",
   "execution_count": 151,
   "metadata": {},
   "outputs": [
    {
     "name": "stdout",
     "output_type": "stream",
     "text": [
      "[('bim', 94749), ('design', 71855), ('time', 49011), ('thanks', 47620), ('big', 45837), ('great', 45457), ('project', 44547), ('one', 42370), ('architecture', 42213), ('like', 41727), ('today', 41242), ('archispeak', 39864), ('see', 37543), ('future', 37355), ('day', 36945), ('data', 35911), ('building', 33209), ('good', 33185), ('work', 33123), ('first', 32630), ('podcast', 32481), ('world', 31631), ('next', 30511), ('check', 30017), ('2017', 29794), ('construction', 28916), ('episode', 28876), ('para', 27575), ('blog', 27569), ('architect', 27282), ('make', 27243), ('week', 26881), ('architects', 26592), ('post', 26327), (\"b'a\", 25727), ('know', 25587), ('workshop', 25113), ('using', 25058), ('people', 24562), ('life', 24169), ('space', 23051), ('best', 22888), ('2016', 21957), ('digital', 21839), ('pavilion', 21753), ('house', 21572), ('going', 21564), (\"b'new\", 21296), ('way', 21180), ('dynamo', 21049), ('tools', 20915), ('video', 20199), ('look', 20015), (\"b'i\", 19682), ('latest', 19593), ('art', 19405), ('year', 19153), ('made', 18613), ('book', 18238), ('working', 18084), ('las', 17778), ('think', 17699), (\"b'this\", 17516), ('back', 17202), ('take', 17092), ('team', 16754), ('open', 16682), ('industry', 16579), ('human', 16501), ('right', 16447), ('city', 16445), ('join', 16429), ('school', 16351), ('last', 16276), ('free', 16083), ('por', 15907), ('looking', 15888), ('revit', 15831), ('per', 15783), ('read', 15667), ('sobre', 15427), ('technology', 15317), ('cool', 15304), ('grasshopper', 15275), ('real', 15232), (\"don't\", 15204), ('love', 15151), ('coming', 14896), ('talk', 14890), ('designed', 14856), ('projects', 14821), ('still', 14797), ('xe9', 14648), ('better', 14639), ('getting', 14589), ('help', 14511), ('xe1s', 14389), ('show', 14247), ('others', 14212), ('model', 14146)]\n"
     ]
    }
   ],
   "source": [
    "words_only_all = words_only_scrape + words_only_sp + words_only_sk\n",
    "words_only_all_freq = FreqDist(words_only_all)\n",
    "print(words_only_all_freq.most_common(100))"
   ]
  },
  {
   "cell_type": "code",
   "execution_count": 152,
   "metadata": {},
   "outputs": [
    {
     "data": {
      "image/png": "[encoded data removed]",
      "text/plain": [
       "<matplotlib.figure.Figure at 0x1c00d4d198>"
      ]
     },
     "metadata": {},
     "output_type": "display_data"
    }
   ],
   "source": [
    "\"\"\" \n",
    "ALL TWEETS\n",
    "\"\"\"\n",
    "tweets = ' '.join(words_only_all)\n",
    "# specify fonts, stopwords, background color and other options\n",
    "wordcloud = WordCloud(font_path='/Users/zoza/Library/Fonts/CooperHewitt-Bold.otf',\n",
    "                          stopwords=open('Twitter_MINING/twitter-sentiment-analysis-stopwords.txt').read().split(),\n",
    "                          background_color='white',\n",
    "                          width=2400,\n",
    "                          height=2000\n",
    "                         ).generate(tweets)\n",
    "\n",
    "\n",
    "plt.imshow(wordcloud)\n",
    "plt.axis('off')\n",
    "plt.show()"
   ]
  },
  {
   "cell_type": "markdown",
   "metadata": {},
   "source": [
    "## 2) Term Co-occurence (bigrams, trigrams)"
   ]
  },
  {
   "cell_type": "code",
   "execution_count": 13,
   "metadata": {
    "collapsed": true
   },
   "outputs": [],
   "source": [
    "from sklearn.feature_extraction.text import CountVectorizer\n",
    "import pickle"
   ]
  },
  {
   "cell_type": "code",
   "execution_count": 14,
   "metadata": {
    "collapsed": true
   },
   "outputs": [],
   "source": [
    "def search_coocurrences(searchword, vectorizer):\n",
    "    coocurrences = []\n",
    "    for key, value in vectorizer.vocabulary_.items():\n",
    "        if searchword in key:\n",
    "            coocurrences.append(key)\n",
    "    return coocurrences"
   ]
  },
  {
   "cell_type": "code",
   "execution_count": 18,
   "metadata": {},
   "outputs": [
    {
     "name": "stdout",
     "output_type": "stream",
     "text": [
      "[]\n",
      "[]\n",
      "[]\n",
      "['bim projekt', 'pro bim', 'bim model', 'bim based', 'bim connected']\n",
      "[]\n",
      "[]\n",
      "[]\n",
      "[]\n",
      "['design in', 'design tech']\n",
      "[]\n",
      "[]\n",
      "[]\n",
      "[]\n",
      "[]\n",
      "['must see']\n",
      "['video overloaded']\n",
      "['2017 41']\n",
      "[]\n",
      "['sull innovazione', 'one off', 'drone delivered', 'one meter', 'by drone']\n",
      "[]\n",
      "[]\n",
      "['great hexagonal']\n",
      "['people driven']\n",
      "[]\n",
      "[]\n",
      "[]\n",
      "[]\n",
      "[]\n",
      "['lantern like', 'genital like', 'escher like', 'campus like', 'like minded']\n",
      "[]\n",
      "['real time', 'time lapse', 'inwood times', 'part time']\n",
      "['lessons learned']\n",
      "[]\n",
      "['live works', 'co working']\n",
      "[]\n",
      "[]\n",
      "[]\n",
      "['hartsfield jackson', 'to field', 'bim to field']\n",
      "['world famous', 'real world']\n",
      "[]\n",
      "[]\n",
      "['know how']\n",
      "[]\n",
      "[]\n",
      "[]\n",
      "['first ever']\n",
      "[]\n",
      "[]\n",
      "[]\n",
      "['must watch']\n",
      "[]\n",
      "[]\n",
      "[]\n",
      "[]\n",
      "[]\n",
      "['data centric', 'meta data', 'data driven', 'data rich', 'data shapes']\n",
      "[]\n",
      "[]\n",
      "[]\n",
      "[]\n",
      "[]\n",
      "[]\n",
      "['five day', 'the day', 'by the day']\n",
      "['already rich', 'ready to', 'ready to use']\n",
      "['fact checked']\n",
      "[]\n",
      "[]\n",
      "['self builders', 'self build']\n",
      "[]\n",
      "['free standing']\n"
     ]
    }
   ],
   "source": [
    "# SCRAPED TWEETS\n",
    "ngram_vectorizer = CountVectorizer(ngram_range=(2, 3))  # minimum 2, maximum 3 words\n",
    "streamed_coocurrences = ngram_vectorizer.fit_transform(words_sp)\n",
    "streamed_search_list = words_sp_freq.most_common(70) # 20 most common words\n",
    "with open('co-ocurrences_streamed_profiles.txt', 'wb') as f:\n",
    "    for i in range(len(streamed_search_list)):\n",
    "        pickle.dump(search_coocurrences(streamed_search_list[i][0], ngram_vectorizer), f)\n",
    "        print(search_coocurrences(streamed_search_list[i][0], ngram_vectorizer)[:5]) # first 20 co-occurences"
   ]
  },
  {
   "cell_type": "markdown",
   "metadata": {},
   "source": [
    "\n",
    "## 3) Keywords extraction\n",
    "\n",
    "Extracting keywords from the list of tweets created with the above process.\n",
    "\n",
    "First, tested a [Python implementation of the Rapid Automatic Keyword Extraction (RAKE) algorithm] (https://github.com/zelandiya/RAKE-tutorial)"
   ]
  },
  {
   "cell_type": "code",
   "execution_count": null,
   "metadata": {
    "collapsed": true
   },
   "outputs": [],
   "source": [
    "import Twitter_MINING.RAKEtutorial.rake as rk\n",
    "import operator\n",
    "rake_object = rk.Rake('Twitter_MINING/twitter-sentiment-analysis-stopwords.txt', 4, 3, 5) # words of minimum length 4, in groups of maximum 2, occurring at least 3 times in the text; this happens to give the best results with the particular corpus"
   ]
  },
  {
   "cell_type": "code",
   "execution_count": null,
   "metadata": {
    "collapsed": true
   },
   "outputs": [],
   "source": [
    "### SCRAPED TWEETS\n",
    "# remove \"float\" objects: convert them to strings\n",
    "tweets_scrape = ''\n",
    "for item in tweets_l_scrape:\n",
    "    try: \n",
    "        tweets_scrape += item\n",
    "    except TypeError:\n",
    "        tweets_scrape = tweets_scrape\n",
    "# extract keywords\n",
    "keywords_scraped = rake_object.run(tweets_scrape)\n",
    "print(keywords_scraped[:30])"
   ]
  },
  {
   "cell_type": "code",
   "execution_count": null,
   "metadata": {
    "collapsed": true
   },
   "outputs": [],
   "source": [
    "### STREAMED TWEETS, PROFILES\n",
    "# remove \"float\" objects: skip\n",
    "tweets_stream_profiles = ''\n",
    "for item in tweets_l_stream_profiles:\n",
    "    try:\n",
    "        tweets_stream_profiles += item\n",
    "    except TypeError:\n",
    "        tweets_stream_profiles = tweets_stream_profiles\n",
    "# extract keywords\n",
    "keywords_streamed_profiles = rake_object.run(tweets_stream_profiles)\n",
    "print(keywords_streamed_profiles[:30])"
   ]
  },
  {
   "cell_type": "markdown",
   "metadata": {},
   "source": [
    "[('españa #opinión #bimonyourside', 18.57099292293467), ('escuela politécnica superior', 15.6), ('photographer aurélien villette', 14.916666666666666), ('cataluña son favorables', 14.20563909774436), ('tecnología #bim transformará', 12.62938613111027), ('stéphane côté', 11.93985260770975), ('cataluña implantará', 10.148496240601503), ('españa prevé', 9.4496336996337), ('un vídeo', 9.273488865323436), ('tres años', 9.244505494505495), ('españa y', 9.175949489107385), ('cheese sandwich modeled', 9.0), ('/gr4qzza2ix #wib #wia…', 9.0), ('@portofrotterdam @ramlabnl aim', 9.0), ('roaring tide productions', 9.0), ('simulating watercolor paints', 9.0), ('staircase crush @gemeentemuseum', 9.0), ('reserveer deze datum', 9.0), ('@eraikunecluster interesantes avances', 9.0), ('sleeping bags required', 9.0), ('/xlgbmdqrjv @mcavoygroup @hadeelsafaa…', 9.0), ('f1 champ @lewishamilton', 9.0), ('veauthier meyer architekten', 9.0), ('#iluminación @icandela_com', 8.99635922330097), ('aprende cómo', 8.960884353741497), ('las ediciones anteriores', 8.921052631578947), ('audio cassette tape', 8.86111111111111), ('un referente internac…', 8.75609756097561), ('un precio especial', 8.75609756097561)]"
   ]
  },
  {
   "cell_type": "code",
   "execution_count": null,
   "metadata": {
    "collapsed": true
   },
   "outputs": [],
   "source": [
    "### STREAMED TWEETS, KEYWORDS\n",
    "# remove \"float\" objects: skip\n",
    "tweets_stream_keywords = ''\n",
    "for item in tweets_l_stream_keywords:\n",
    "    try:\n",
    "        tweets_stream_keywords += item\n",
    "    except TypeError:\n",
    "        tweets_stream_keywords = tweets_stream_keywords\n",
    "# extract keywords\n",
    "keywords_streamed_keywords = rake_object.run(tweets_stream_keywords)\n",
    "print(keywords_streamed_keywords[:20])"
   ]
  },
  {
   "cell_type": "markdown",
   "metadata": {},
   "source": [
    "[('タックスヘイブンの単語を見るたびに心の中のtm networkが何かを歌い出しそうになるのにパラダイス文書だなんて心の中の光genjiがrt @dollyray1987', 17.830082592845752), ('nécessaire #tranfonum', 9.418604651162791), ('satılıyor', 9.164835164835164), ('rigged dem primary', 9.0), ('cosa ci insegna', 9.0), ('sullivan commends hilscher', 9.0), ('#watson supply chain', 8.958414465816356), ('promoted several times', 8.942857142857143), ('/cbj0kz8z94 #artificialintelligence #internetofthing…', 8.879487179487178), ('french resort town', 8.855614973262032), ('imag㏌ed yet', 8.846153846153847), ('maar een middel', 8.833333333333334), ('tony romo made', 8.794595887135342), ('beta testing beats', 8.789473684210526), ('écosystème #startup', 8.785529715762273), ('reports falling profit', 8.75), ('wales prize winner', 8.744736842105263), ('complex made simple', 8.743796207007392), ('marshawn lynch keeping', 8.690476190476192), ('digme fitness richmond', 8.631578947368421), ('rm education plc', 8.625), ('tax havens #4corners', 8.607107107107108), ('niet het doel', 8.555555555555555), ('proposed pipelines may', 8.458333333333334), ('insurance pool contributions', 8.45021645021645), ('industrialized digital pl…', 8.395121951219512), ('telecom companies charging', 8.395043541512774), ('#leonardolive w/ @dhinchcliffe', 8.39360754985755), ('/cdvhxbkjk4 #artificialintelligence #internetofthings…', 8.38890854907804), ('computer science related', 8.363636363636363)]"
   ]
  },
  {
   "cell_type": "markdown",
   "metadata": {},
   "source": [
    "Results are not that convincing and do not reflect the word frequency represented before. Also, they depend a lot on the parameters with which Rake is called (word length, word group size, occurrence). Below are the best results:\n",
    "\n",
    "### Keyword Extraction: Parser\n",
    "\n",
    "Another small script: [keyword_extraction_w_parser](https://github.com/naushadzaman/keyword-extraction-from-tweets) (made for twitter specifically) provides a very flexible way to extract keywords, and works relatively well with the entire collection of tweets converted into a single string (as explained in: Preprocessing the text of tweets). For this purpose, I modified the string to include #hashtags and @mentions."
   ]
  },
  {
   "cell_type": "code",
   "execution_count": null,
   "metadata": {
    "collapsed": true
   },
   "outputs": [],
   "source": [
    "import Twitter_MINING.keyword_extraction_w_parser as kep\n",
    "keywords_2_scraped=kep.get_keywords(tweets_scrape)\n",
    "print(keywords_2_scraped[0])"
   ]
  },
  {
   "cell_type": "markdown",
   "metadata": {},
   "source": [
    "### Comparing Hashtags to Keywords\n",
    "\n",
    "An efficient approach is to rely on #hashtags as keywords users themselves have identified.\n",
    "\n",
    "The list of unique hashtags was obtained from the same collection of tweets used above. In a total of 18473 tweets, there are 12785 hashtags, less than a quarter of them unique - 3607 words. The three different sets of hashtags - 1) all tweets from 8 profiles, 2) tweets captured in streaming tweets from selected profiles (number?) and 3) tweets captured in streaming keywords are compared. Below is a list of #hashtags which appear in all three sets: "
   ]
  },
  {
   "cell_type": "code",
   "execution_count": null,
   "metadata": {
    "collapsed": true
   },
   "outputs": [],
   "source": [
    "# load lists with wordfrequency, hashtags, keywords\n",
    "with open('..pathto/wordfrequency_stream_profiles.txt', 'rb') as f:\n",
    "    wordfrequencylist=pickle.load(f)\n",
    "with open('..pathto/hashtag_stream_profiles.txt', 'rb') as f:\n",
    "    hashtaglist=pickle.load(f)\n",
    "#remove hashtags:\n",
    "hashtaglistw = []\n",
    "for item in hashtaglist:\n",
    "    hashtaglistw.append((item[0][1:],item[1]))"
   ]
  },
  {
   "cell_type": "code",
   "execution_count": null,
   "metadata": {
    "collapsed": true
   },
   "outputs": [],
   "source": [
    "# intersect the two lists (lists are tuples of words and their frequency, we need the first value only)\n",
    "commonwords=set(list(zip(*wordfrequencylist))[0]).intersection(list(zip(*hashtaglistw))[0])\n",
    "frequentcommonwords=set(list(zip(*wordfrequencylist[:200]))[0]).intersection(list(zip(*hashtaglistw[:200]))[0])"
   ]
  },
  {
   "cell_type": "markdown",
   "metadata": {},
   "source": [
    "the last list comprises only 18 words that are commonly found in the first 200 entries of both lists. These words are:\n",
    "\n",
    "<code>[architects', 'architecture', 'autocad', 'autodesk', 'bim', 'building', 'concrete', 'construction', 'data', 'design', 'digital', 'engineering', 'future', 'housing', 'passivhaus', 'revit', 'tech', 'technology']</code>"
   ]
  },
  {
   "cell_type": "markdown",
   "metadata": {},
   "source": [
    "## 3) Term Co-Occurences"
   ]
  },
  {
   "cell_type": "markdown",
   "metadata": {},
   "source": [
    "## 4) Sentiment Analysis"
   ]
  },
  {
   "cell_type": "code",
   "execution_count": null,
   "metadata": {
    "collapsed": true
   },
   "outputs": [],
   "source": [
    "# positive and negative terms\n",
    "positive_vocab = [\n",
    "    'good', 'nice', 'great', 'awesome', 'outstanding',\n",
    "    'fantastic', 'terrific', ':)', ':-)', 'like', 'love',\n",
    "    # shall we also include game-specific terms?\n",
    "    # 'triumph', 'triumphal', 'triumphant', 'victory', etc.\n",
    "]\n",
    "negative_vocab = [\n",
    "    'bad', 'terrible', 'crap', 'useless', 'hate', ':(', ':-(',\n",
    "    # 'defeat', etc.\n",
    "]\n",
    "\n",
    "# compute probabilities\n",
    "p_t = {}\n",
    "p_t_com = defaultdict(lambda : defaultdict(int))\n",
    "com = defaultdict(lambda : defaultdict(int))\n",
    "sp_wordfreq = FreqDist(words_sp)\n",
    "\n",
    "for i in range(len(words_sp)-1):\n",
    "    for j in range(i+1, len(words_sp)):\n",
    "        w1, w2 = sorted([words_sp[i], words_sp[j]])\n",
    "        if w1 != w2:\n",
    "            com[w1][w2] += 1\n",
    "                \n",
    "for term, n in sp_wordfreq.items():\n",
    "    p_t[term] = n / len(tweets_l_stream_profiles)\n",
    "    for t2 in com[term]:\n",
    "        p_t_com[term][t2] = com[term][t2] / len(tweets_l_stream_profiles)\n",
    "print(com)\n",
    "pmi = defaultdict(lambda : defaultdict(int))\n",
    "for t1 in p_t:\n",
    "    for t2 in com[t1]:\n",
    "        denom = p_t[t1] * p_t[t2]\n",
    "        pmi[t1][t2] = math.log2(p_t_com[t1][t2] / denom)\n",
    "#print(pmi)\n",
    "''' \n",
    "semantic_orientation = {}\n",
    "for term, n in p_t.items():\n",
    "    positive_assoc = sum(pmi[term][tx] for tx in positive_vocab)\n",
    "    negative_assoc = sum(pmi[term][tx] for tx in negative_vocab)\n",
    "    semantic_orientation[term] = positive_assoc - negative_assoc\n",
    "    \n",
    "semantic_sorted = sorted(semantic_orientation.items(), \n",
    "                         key=operator.itemgetter(1), \n",
    "                         reverse=True)\n",
    "top_pos = semantic_sorted[:10]\n",
    "top_neg = semantic_sorted[-10:]\n",
    "print(top_pos, top_neg)\n",
    "'''"
   ]
  },
  {
   "cell_type": "markdown",
   "metadata": {},
   "source": [
    "## 5) Further analysis (images etc.)\n",
    "\n",
    "The tweets contain much more information than simply the text of the tweet. For example, it is possible to extract the attached media (see bellow: [Extracting images (media)](extractingimages)) or geolocation from the collected tweets.\n",
    "\n",
    "### <a name=\"extractingimages\"></a>Extracting images (media) from collected tweets"
   ]
  },
  {
   "cell_type": "code",
   "execution_count": null,
   "metadata": {
    "collapsed": true
   },
   "outputs": [],
   "source": [
    "import urllib\n",
    "import pandas as pd\n",
    "\n",
    "df=pd.read_json('profile_tweets.json', lines=True)\n",
    "\n",
    "for label, value in df.entities.iteritems(): # iterate through the dictionary of entities\n",
    "  if type(value)==dict and 'media' in value.keys(): # some value.keys are nan, and their type is 'float'\n",
    "    for thing in value['media']:\n",
    "      urllib.urlretrieve(thing['media_url'],'%s.jpg' %label) # save all images with the unique of their index in the df"
   ]
  },
  {
   "cell_type": "markdown",
   "metadata": {},
   "source": [
    "###EXTRAS\n",
    "\n",
    "Check json file for errors:"
   ]
  },
  {
   "cell_type": "code",
   "execution_count": null,
   "metadata": {
    "collapsed": true
   },
   "outputs": [],
   "source": [
    "def parse():\n",
    "  files = [f for f in listdir('.') if f.endswith('.json') and isfile(join('.', f))]\n",
    "  for afile in files:\n",
    "    with open(afile) as json_file:\n",
    "      try:\n",
    "        json.load(json_file)\n",
    "        read_json_files.append(afile)\n",
    "      except ValueError, e:\n",
    "        print (\"JSON object issue: %s\") % e\n",
    "        invalid_json_files.append(afile)\n",
    "  print invalid_json_files, len(read_json_files)"
   ]
  }
 ],
 "metadata": {
  "kernelspec": {
   "display_name": "Python 3",
   "language": "python",
   "name": "python3"
  },
  "language_info": {
   "codemirror_mode": {
    "name": "ipython",
    "version": 3
   },
   "file_extension": ".py",
   "mimetype": "text/x-python",
   "name": "python",
   "nbconvert_exporter": "python",
   "pygments_lexer": "ipython3",
   "version": "3.6.4"
  }
 },
 "nbformat": 4,
 "nbformat_minor": 2
}
