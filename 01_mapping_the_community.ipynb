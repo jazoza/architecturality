{
 "cells": [
  {
   "cell_type": "markdown",
   "metadata": {},
   "source": [
    "# 01 | Mapping the Community\n",
    "\n",
    "Gathering lists of Twitter profiles. Filtering users according to their profile descriptions, searching for keywords. Keywords are constantly updated according to results.\n",
    "\n",
    "## First list of profiles\n",
    "\n",
    "In order to find interesting enough discourse on Twitter, which is relevant to understanding the relationship between digital tools and architectural design, I started with a short list of users that satisfied the following conditions: the protagonists of this discourse would have to be real people and they should be speaking as themselves rather than in front of companies, institutions or similar entities. To begin with, I  selected eight accounts which returner from a search of Twitter profiles for “architect” and OR|\"digital, parametric, computation, data, data-driven”. I selected the accounts that came up at the top of this search and corresponded with three relevance criteria for the research. Relevance criteria are: 1) the user tweets about architectural design and tools in an explicit way; 2) the user mentions the word 'digital' or 'data-driven' or 'parametric' every less than 50 tweets; 3) the users shares opinions; Meeting of these criteria is determined based on my qualitative assessment.\n",
    "\n",
    "Checked the selected accounts using the [botornot Python API](https://github.com/truthy/botornot-python) to determine their (un)likeliness to be or appear as bots. The smaller the value, the more authentic the tweets of the user appear.\n",
    "\n",
    "| User | bot or not score |\n",
    "| -----:| -------------:|\n",
    "| ProvingGroundIO | 0.56 |\n",
    "| Parametric01 | 0.26 |\n",
    "| archinate | 0.4 |\n",
    "| digitag | 0.55 |\n",
    "| andydeutsch | 0.63 |\n",
    "| BjarkeIngels | 0.5 |\n",
    "| etroxel | 0.18 |\n",
    "| ColinMcCrone | 0.32 |\n",
    "| 60secondrevit | 0.37 | *blocked me\n",
    "| iperezarnal | 0.32 |\n",
    "| arhitekturality | 0.31 |  (! i am a bot !)\n",
    "\n",
    "## First keyword list\n",
    "\n",
    "By carefully observing the tweets from this collection, with the help of a visual word frequency representation (a wordcloud), I selected the first list of keywords which are relevant to the discourse and which are unambiguously used by the community."
   ]
  },
  {
   "cell_type": "code",
   "execution_count": null,
   "metadata": {},
   "outputs": [],
   "source": [
    "LIST FROM A4"
   ]
  },
  {
   "cell_type": "markdown",
   "metadata": {},
   "source": [
    "Wordcloud of tweets collected from the list of eight profiles, all (from 27. 02. to 28. 02. 2017):\n",
    "\n",
    "![Wordcloud of tweets collected from the list of eight profiles, all (from 27. 02. to 28. 02. 2017)](http://architecturality.kucjica.org/wordcloud-02-28.png)\n",
    "\n",
    "In the wordcloud, I look for non-ambiguous words that are relevant for the question on relationships of computation to architecture. A preliminary list of keywords that can be observed:\n",
    "\n",
    "`tools: [Revit, Dynamo, DynamoBIM, 3dprint, Grasshopper, Autodesk]; architecture: [architect, building, build, project, construction]; tech: [data, technology, robotic, node]`\n",
    "\n",
    "## Extending the list, towards a community\n",
    "\n",
    "How to select the right users to observe? How to determine a community? Relying on methods described by Gradjean [^gradjean](Martin Grandjean. 2016. A Social Network Analysis of Twitter: Mapping the Digital Humanities Community. Cogent Arts & Humanities 3, 1). Use keywords identified in the wordclouds to filter users initially."
   ]
  },
  {
   "cell_type": "code",
   "execution_count": null,
   "metadata": {},
   "outputs": [],
   "source": [
    "keywords = ['BIM', 'DynamoBIM', 'Revit', 'AutoCAD', 'Autodesk', 'Rhinoceros 3D', 'Grasshopper 3D', 'Rhino 3D', 'CAAD', 'computer-aided', 'data-driven', 'model-based', '3dprint', 'parametric', 'parametricism',  'parametricist']"
   ]
  },
  {
   "cell_type": "markdown",
   "metadata": {},
   "source": [
    "Wordcloud of tweets collected by streaming a list of profiles (from 31. 03. to 12. 04. 2017):\n",
    "\n",
    "![Wordcloud of tweets collected by streaming a list of profiles (from 31. 03. to 12. 04. 2017)](http://architecturality.kucjica.org/wordcloud-04-12-profiles.png)\n",
    "\n",
    "Wordcloud of tweets collected by listening to a list of keywords (from 31. 03. to 12. 04. 2017):\n",
    "\n",
    "![Wordcloud of tweets collected by listening to a list of keywords (from 31. 03. to 12. 04. 2017)](http://architecturality.kucjica.org/wordcloud-04-12-keywords.png)\n",
    "\n",
    "## Keywords vs Profiles\n",
    "\n",
    "word ambiguity is reduced when listening to profiles, because the community of architects mostly means architecture in the sense of buildings and not computer hardware. This first exploration of efficiency of the two streaming approaches is inconclusive and we continue to collect two sets of tweets."
   ]
  }
 ],
 "metadata": {},
 "nbformat": 4,
 "nbformat_minor": 2
}
