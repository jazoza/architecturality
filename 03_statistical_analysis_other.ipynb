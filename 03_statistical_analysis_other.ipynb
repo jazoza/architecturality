{
 "cells": [
  {
   "cell_type": "markdown",
   "metadata": {},
   "source": [
    "# 03 | Other Online Sources (Dezeen, Facebook, Instagram)"
   ]
  },
  {
   "cell_type": "markdown",
   "metadata": {},
   "source": [
    "### Preprocessing functions\n",
    "\n",
    "Tokenize"
   ]
  },
  {
   "cell_type": "code",
   "execution_count": 1,
   "metadata": {
    "collapsed": true
   },
   "outputs": [],
   "source": [
    "import pandas as pd\n",
    "from os import listdir\n",
    "from os.path import isfile, join\n",
    "\n",
    "import json, re, operator, string, nltk, pickle\n",
    "from nltk.tokenize import word_tokenize\n",
    "\n",
    "regex_str = [\n",
    "    r'<[^>]+>', # HTML tags\n",
    "    r'(?:@[\\w_]+)', # @-mentions\n",
    "    r\"(?:\\#+[\\w_]+[\\w\\'_\\-]*[\\w_]+)\", # hash-tags\n",
    "    r'http[s]?://(?:[a-z]|[0-9]|[$-_@.&amp;+]|[!*\\(\\),]|(?:%[0-9a-f][0-9a-f]))+', # URLs\n",
    "\n",
    "    r'(?:(?:\\d+,?)+(?:\\.?\\d+)?)', # numbers\n",
    "    r\"(?:[a-z][a-z'\\-_]+[a-z])\", # words with - and '\n",
    "    r'(?:[\\w_]+)', # other words\n",
    "    r'(?:\\S)' # anything else\n",
    "]\n",
    "\n",
    "tokens_re = re.compile(r'('+'|'.join(regex_str)+')', re.VERBOSE | re.IGNORECASE)\n",
    "\n",
    "def tokenize(s):\n",
    "    return tokens_re.findall(s)\n",
    "\n",
    "def preprocess(s, lowercase=False):\n",
    "    tokens = tokenize(s)\n",
    "    if lowercase:\n",
    "        tokens = [token if emoticon_re.search(token) else token.lower() for token in tokens]\n",
    "    return tokens"
   ]
  },
  {
   "cell_type": "markdown",
   "metadata": {},
   "source": [
    "### Loading the Dezeen Posts\n",
    "\n",
    "* Collected using scrapy (see documentation)"
   ]
  },
  {
   "cell_type": "code",
   "execution_count": 2,
   "metadata": {},
   "outputs": [
    {
     "name": "stdout",
     "output_type": "stream",
     "text": [
      "['has .  that it is releasing the iPhone X, which the tech company claims is \"the biggest leap forward since the original . \".. As expected, the iPhone X includes facial recognition technology for unlocking the phone and protecting data, and a corner-to-corner display.. \"This is the biggest leap forward since the original iPhone,\" said CEO Tim Cook, who unveiled the product during today\\'s Apple Event, when the company also revealed the iPhone 8 and iPhone 8 Plus.. The iPhone X incorporates Apple\\'s new Face ID feature. This technology is enabled through the \"True-depth\" camera system along the top of the front display.. The small bar incorporates a flood illuminator, which detects the face, and a dot projector that puts out 30,000 dots and creates a mathematical model of the face.. Software then compares the image to the one stored, and unlocks the phone if they match. Apple assures that it won\\'t be fooled by photographs or masks.. \"Your iPhone now recognises you, even in the dark, and even adapts to physical changes,\" said chief design officer .  during a demonstration video.. \"Face ID is the future of how we unlock our smartphones,\" added Philip W Schiller, Apple\\'s senior vice president of worldwide marketing – although the technology faltered during the keynote event.. The true-depth camera also allows users to customise and animate emoji. The new Animoji mirror the expressions captured by the camera and recognised by software, based on over 50 pre-mapped muscle movements.. The iPhone X\\'s steel case is wrapped almost entirely in glass to create a continuous surface, \"making the boundary between the phone and screen harder to discern\" according to Ive. It is designed to be water and dust resistant at a microscopic level.. The smartphone\\'s corner-to-corner front OLED display measures 5.8 inches diagonally, and includes 2.7 million pixels.. As the device does away this the home button, functions will be accessed via a variety of touch gestures. Swiping up from the bottom will bring the device to life, and Face ID will unlock it.. Siri will be activated by voice command, or by pressing the enlarged side button.. Priced from $999, the iPhone X will be available to preorder from 27 October 2017 and will begin shipping 3 November 2017. Versions with 64GB and 254GB will launch initially, in either space grey and silver.. Reports of an Apple device with Face ID and all-screen display features .  in July 2017, when developers unpicked released code. A .  also occurred this week.. The September 2017 Apple Event took place for the first time at the Steve Jobs Theater, situated on the company\\'s . .. Located in Cupertino, California, Apple Park has still not officially opened, although thousands of the tech giant\\'s employees have already moved in. Reports suggest that some of them are . ..']\n"
     ]
    }
   ],
   "source": [
    "dezeentech = [x.strip() for x in open('Dezeen_MINING/dezeentech_allposts.txt', 'r').readlines() if x and x.strip()] \n",
    "print(dezeentech[:1])"
   ]
  },
  {
   "cell_type": "markdown",
   "metadata": {},
   "source": [
    "## 1) Word Frequencies and Wordclouds\n",
    "\n",
    "Import the necessary libraries and lists of stopwords."
   ]
  },
  {
   "cell_type": "code",
   "execution_count": 3,
   "metadata": {
    "collapsed": true
   },
   "outputs": [],
   "source": [
    "from nltk.corpus import stopwords\n",
    "from collections import Counter\n",
    "from itertools import chain\n",
    "from nltk.probability import FreqDist\n",
    "from nltk import bigrams, trigrams\n",
    "\n",
    "import numpy as np\n",
    "import matplotlib.pyplot as plt\n",
    "\n",
    "from wordcloud import WordCloud\n",
    "\n",
    "#stopwords\n",
    "stop = stopwords.words('english') + list(string.punctuation) \n",
    "\n",
    "# lists for corpus comparison\n",
    "corpus_dezeentech = []"
   ]
  },
  {
   "cell_type": "code",
   "execution_count": 4,
   "metadata": {
    "collapsed": true
   },
   "outputs": [],
   "source": [
    "# Frequency function\n",
    "def count_freq(text, corpus):\n",
    "    text_terms = [term for term in preprocess(' '.join(map(str, text)))]\n",
    "    all_tokens = [x.lower() for x in text_terms]\n",
    "    # Count All Tokens\n",
    "    tokens_number = len(all_tokens)\n",
    "    corpus.append(('total tokens', tokens_number)) # update corpus comparison\n",
    "    print('Total number of words in the collection: ', tokens_number)\n",
    "    # remove stop words\n",
    "    words = [term for term in all_tokens if term not in stop and len(term)>2]\n",
    "    corpus.append(('meaningful words', len(words))) # update corpus comparison\n",
    "    print('Total number of meaningful words (without stopwords and links): ', len(words))\n",
    "    # Count terms only once, equivalent to Document Frequency\n",
    "    unique_words = set(words)\n",
    "    corpus.append(('unique words', len(unique_words))) # update corpus comparison\n",
    "    print('Number of unique terms: ', len(unique_words))\n",
    "    return words, corpus"
   ]
  },
  {
   "cell_type": "markdown",
   "metadata": {},
   "source": [
    "### Word Frequency"
   ]
  },
  {
   "cell_type": "markdown",
   "metadata": {},
   "source": [
    "#### DezeenTECH"
   ]
  },
  {
   "cell_type": "code",
   "execution_count": 5,
   "metadata": {},
   "outputs": [
    {
     "name": "stdout",
     "output_type": "stream",
     "text": [
      "Total number of words in the collection:  905614\n",
      "Total number of meaningful words (without stopwords and links):  421330\n",
      "Number of unique terms:  31561\n",
      "The 100 most frequent terms, including special terms:  [('design', 2953), ('new', 2176), ('like', 2157), ('technology', 2133), ('would', 1979), ('could', 1861), (\"it's\", 1843), ('one', 1740), ('people', 1711), ('said', 1709), ('also', 1625), ('first', 1298), ('make', 1243), ('use', 1226), ('used', 1196), ('using', 1141), ('apple', 1070), ('way', 1066), ('create', 1063), ('printing', 1025), ('think', 1010), ('project', 1007), ('see', 948), ('time', 928), ('future', 926), ('digital', 921), ('designed', 914), ('car', 914), ('company', 897), ('made', 894), ('world', 883), ('work', 877), ('really', 857), (\"don't\", 833), ('dezeen', 778), ('get', 766), ('designers', 746), ('need', 738), ('much', 734), ('something', 696), ('around', 691), ('device', 690), ('designer', 690), ('years', 670), ('says', 666), ('want', 658), ('well', 654), ('different', 641), ('material', 632), ('system', 631), ('products', 625), ('even', 624), ('take', 624), ('phone', 616), ('team', 603), ('d-printed', 590), ('space', 587), ('google', 576), ('going', 572), ('look', 568), ('part', 563), ('year', 561), ('things', 557), ('product', 550), ('two', 549), ('cars', 545), ('home', 538), ('idea', 532), ('research', 522), ('iphone', 521), ('users', 519), ('created', 519), ('process', 518), ('help', 515), ('printed', 515), ('able', 514), ('light', 509), ('building', 508), (\"i'm\", 507), ('human', 503), ('watch', 498), ('designs', 498), ('print', 498), ('concept', 493), ('reality', 486), ('architecture', 485), ('back', 484), ('many', 483), ('software', 481), (\"that's\", 473), ('good', 471), ('london', 468), ('actually', 467), ('last', 465), ('body', 465), ('great', 462), ('working', 460), ('still', 458), ('house', 446), ('fashion', 445)]\n"
     ]
    }
   ],
   "source": [
    "# Count all words\n",
    "# Calculate word frequency for all terms (including hashtags and mentions)\n",
    "words_dezeentech, corpus_dezeentech = count_freq(dezeentech, corpus_dezeentech)\n",
    "words_dezeentech_freq = FreqDist(words_dezeentech)\n",
    "print('The 100 most frequent terms, including special terms: ', words_dezeentech_freq.most_common(100))"
   ]
  },
  {
   "cell_type": "code",
   "execution_count": 6,
   "metadata": {},
   "outputs": [
    {
     "name": "stdout",
     "output_type": "stream",
     "text": [
      "[('total tokens', 905614), ('meaningful words', 421330), ('unique words', 31561)]\n"
     ]
    }
   ],
   "source": [
    "print(corpus_dezeentech)"
   ]
  },
  {
   "cell_type": "code",
   "execution_count": 7,
   "metadata": {},
   "outputs": [
    {
     "data": {
      "image/png": "[encoded data removed]",
      "text/plain": [
       "<matplotlib.figure.Figure at 0x1a17777518>"
      ]
     },
     "metadata": {},
     "output_type": "display_data"
    }
   ],
   "source": [
    "popularwords = words_dezeentech_freq.most_common(30)\n",
    "labels, values = zip(*popularwords)\n",
    "#print(labels, values)\n",
    "# sort your values in descending order\n",
    "indSort = np.argsort(values)[::-1]\n",
    "# rearrange your data\n",
    "labels = np.array(labels)[indSort]\n",
    "values = np.array(values)[indSort]\n",
    "indexes = np.arange(len(labels))\n",
    "bar_width = 0.35\n",
    "plt.bar(indexes, values, color='#E83F9E')\n",
    "# add labels\n",
    "plt.xticks(indexes + bar_width, labels, rotation='vertical')\n",
    "plt.show()"
   ]
  },
  {
   "cell_type": "code",
   "execution_count": 9,
   "metadata": {
    "collapsed": true
   },
   "outputs": [],
   "source": [
    "### WRITING IT DOWN\n",
    "with open('wordfrequency_dezeentech.txt', 'wb') as f:\n",
    "    pickle.dump(words_dezeentech_freq.most_common(), f)\n",
    "\n",
    "### to read back: \n",
    "#with open ('wordfrequency_scrape.txt', 'rb') as f:\n",
    "    #words_only_scrape_freq = pickle.load(f)"
   ]
  },
  {
   "cell_type": "code",
   "execution_count": 10,
   "metadata": {},
   "outputs": [
    {
     "data": {
      "image/png": "[encoded data removed]",
      "text/plain": [
       "<matplotlib.figure.Figure at 0x1a11952898>"
      ]
     },
     "metadata": {},
     "output_type": "display_data"
    }
   ],
   "source": [
    "### WORDCLOUD\n",
    "\n",
    "# convert list of terms (stream_terms_only) into a string\n",
    "words = ' '.join(words_dezeentech)\n",
    "# specify fonts, stopwords, background color and other options\n",
    "wordcloud = WordCloud(font_path='/Users/zoza/Library/Fonts/CooperHewitt-Bold.otf',\n",
    "                          stopwords=open('Twitter_MINING/twitter-sentiment-analysis-stopwords.txt').read().split(),\n",
    "                          background_color='white',\n",
    "                          width=2400,\n",
    "                          height=2000\n",
    "                         ).generate(words)\n",
    "\n",
    "\n",
    "plt.imshow(wordcloud)\n",
    "plt.axis('off')\n",
    "plt.show()"
   ]
  },
  {
   "cell_type": "code",
   "execution_count": 8,
   "metadata": {},
   "outputs": [
    {
     "data": {
      "image/png": "[encoded data removed]",
      "text/plain": [
       "<matplotlib.figure.Figure at 0x1a17791898>"
      ]
     },
     "metadata": {},
     "output_type": "display_data"
    }
   ],
   "source": [
    "labels, values = zip(*corpus_dezeentech)\n",
    "labelstext = [str(lab)+str('\\n')+str(val)+'w  ('+str(round(val/corpus_dezeentech[0][1]*100, 2))+'%)' for lab,val in corpus_dezeentech]\n",
    "# rearrange your data\n",
    "labels = np.array(labelstext)\n",
    "values = np.array(values)\n",
    "indexes = np.arange(len(labels))\n",
    "bar_width = 0.25\n",
    "plt.bar(indexes, values, color='#E83F9E')\n",
    "# add labels\n",
    "plt.xticks(indexes + bar_width-0.2, labels, rotation='vertical')\n",
    "plt.show()"
   ]
  },
  {
   "cell_type": "markdown",
   "metadata": {},
   "source": [
    "## 2) Term Co-Occurences (Bigrams and Trigrams)"
   ]
  },
  {
   "cell_type": "code",
   "execution_count": 12,
   "metadata": {
    "collapsed": true
   },
   "outputs": [],
   "source": [
    "from sklearn.feature_extraction.text import CountVectorizer\n",
    "\n",
    "def search_coocurrences(searchword, vectorizer):\n",
    "    coocurrences = []\n",
    "    for key, value in vectorizer.vocabulary_.items():\n",
    "        if searchword in key:\n",
    "            coocurrences.append(key)\n",
    "    return coocurrences"
   ]
  },
  {
   "cell_type": "code",
   "execution_count": 31,
   "metadata": {
    "scrolled": true
   },
   "outputs": [
    {
     "name": "stdout",
     "output_type": "stream",
     "text": [
      "['chief design', 'design officer', 'is designed', 'designed to', 'said chief design']\n",
      "['apple new', 'new face', 'the new', 'new animoji', 'incorporates apple new']\n",
      "['iphone likely', 'likely to', 'new iphone likely', 'iphone likely to', 'likely to feature']\n",
      "['recognition technology', 'technology for', 'this technology', 'technology is', 'the technology']\n",
      "['again would', 'would love', 'technology again would', 'again would love', 'would love to']\n",
      "['but could', 'could understand', 'me but could', 'but could understand', 'could understand and']\n",
      "[]\n",
      "['the iphone', 'iphone which', 'iphone includes', 'the phone', 'phone and']\n",
      "['and people', 'people can', 'benefits and people', 'and people can', 'people can afford']\n",
      "['iphone said', 'said ceo', 'changes said', 'said chief', 'original iphone said']\n",
      "['company also', 'also revealed', 'camera also', 'also allows', 'code also']\n",
      "['the first', 'first time', 'for the first', 'the first time', 'first time at']\n",
      "['to make', 'make sad', 'have to make', 'to make sad', 'make sad face']\n",
      "['allows users', 'users to', 'also allows users', 'allows users to', 'users to customise']\n",
      "['be used', 'used on', 'could be used', 'be used on', 'used on that']\n",
      "['luggage using', 'using gps', 'horizn luggage using', 'luggage using gps', 'using gps system']\n",
      "['today apple', 'apple event', 'incorporates apple', 'apple new', 'match apple']\n",
      "['does away', 'away this', 'device does away', 'does away this', 'away this the']\n",
      "['and creates', 'creates mathematical', 'to create', 'create continuous', 'dots and creates']\n",
      "['3d printing', 'printing techniques', 'using 3d printing', '3d printing techniques', 'printing techniques and']\n"
     ]
    }
   ],
   "source": [
    "# DEZEENTECH\n",
    "ngram_vectorizer = CountVectorizer(ngram_range=(2, 3))  # minimum 2, maximum 3 words\n",
    "dezeentech_coocurrences = ngram_vectorizer.fit_transform(dezeentech)\n",
    "dezeentech_search_list = words_dezeentech_freq.most_common(20) # 20 most common words\n",
    "with open('co-ocurrences_dezeentech_2.txt', 'wb') as f:\n",
    "    for i in range(len(dezeentech_search_list)):\n",
    "        pickle.dump(search_coocurrences(dezeentech_search_list[i][0], ngram_vectorizer), f)\n",
    "        print(search_coocurrences(dezeentech_search_list[i][0], ngram_vectorizer)[:5]) # first 20 co-occurences"
   ]
  },
  {
   "cell_type": "markdown",
   "metadata": {},
   "source": [
    "### Bigrams and Trigrams (nltk)"
   ]
  },
  {
   "cell_type": "code",
   "execution_count": 34,
   "metadata": {
    "scrolled": true
   },
   "outputs": [
    {
     "name": "stdout",
     "output_type": "stream",
     "text": [
      "[(('eth', 'zurich'), 237), (('told', 'dezeen'), 221), (('apple', 'watch'), 188), (('augmented', 'reality'), 152), (('virtual', 'reality'), 152), (('competition', 'win'), 151), (('last', 'year'), 149), (('design', 'technology'), 147), (('looks', 'like'), 146), ((\"world's\", 'first'), 144), (('new', 'york'), 141), (('unveils', 'plans'), 135), (('zurich', 'unveils'), 133), (('plans', 'robot-built'), 133), (('robot-built', 'house'), 133), (('house', 'dübendorf'), 133), (('look', 'like'), 131), (('digital', 'fabrication'), 123), (('win', 'book'), 122), (('could', 'used'), 110)]\n"
     ]
    }
   ],
   "source": [
    "# another way of counting bigrams, based on nltk library \n",
    "count_bigrams = Counter()\n",
    "terms_bigram = bigrams(words_dezeentech)\n",
    "count_bigrams.update(terms_bigram)\n",
    "print(count_bigrams.most_common(20))"
   ]
  },
  {
   "cell_type": "code",
   "execution_count": 35,
   "metadata": {},
   "outputs": [
    {
     "name": "stdout",
     "output_type": "stream",
     "text": [
      "[(('eth', 'zurich', 'unveils'), 133), (('zurich', 'unveils', 'plans'), 133), (('unveils', 'plans', 'robot-built'), 133), (('plans', 'robot-built', 'house'), 133), (('robot-built', 'house', 'dübendorf'), 133), (('competition', 'win', 'book'), 122), (('win', 'book', 'detailing'), 100), (('book', 'detailing', 'digital'), 100), (('detailing', 'digital', 'fabrication'), 100), (('hong', 'kong', 'students'), 99), (('kong', 'students', 'create'), 99), (('students', 'create', 'terracotta'), 99), (('create', 'terracotta', 'tower'), 99), (('terracotta', 'tower', 'promote'), 99), (('tower', 'promote', 'use'), 99), (('swarovski', 'crystal', 'gets'), 98), (('crystal', 'gets', 'd-printed'), 98), (('gets', 'd-printed', 'upcycled'), 98), (('d-printed', 'upcycled', 'turned'), 98), (('tom', \"fereday's\", 'pelo'), 98)]\n"
     ]
    }
   ],
   "source": [
    "count_trigrams = Counter()\n",
    "terms_trigram = trigrams(words_dezeentech)\n",
    "count_trigrams.update(terms_trigram)\n",
    "print(count_trigrams.most_common(20))"
   ]
  },
  {
   "cell_type": "markdown",
   "metadata": {},
   "source": [
    "### Comparing with google n-grams\n",
    "\n",
    "13 December 2017\n",
    "\n",
    "* **general** words: design, technology\n",
    "![Google Ngrams viewer: design, technology (1960-2008)](https://lh3.google.com/u/0/d/1GCubErYpvErkXMDbLfkwS81ABvbt7G-C=w2880-h1524-iv1 \"Google Ngrams viewer: design, technology (1960-2008)\")\n",
    "\n",
    "* **technology**: (phone, camera,) iPhone, 3D printing, recognition technology, GPS system\n",
    "![Google Ngrams viewer: phone, camera, iPhone, 3D printing, recognition technology, GPS system](https://lh3.google.com/u/0/d/1QBTIVb8x3IN1bF78ONRK9EWaTSlv4UZn=w2880-h1524-iv1 \"Google Ngrams viewer: phone, camera, iPhone, 3D printing, recognition technology, GPS system\")\n",
    "![Google Ngrams viewer: iPhone, 3D printing, recognition technology, GPS system](https://lh3.google.com/u/0/d/1-c4WtO2UDgkqt3IvC_g_bGFqALoLx--_=w2880-h1524-iv1 \"Google Ngrams viewer: iPhone, 3D printing, recognition technology, GPS system\")\n",
    "\n",
    "* **verbs, actions** : make, use, say, allow, understand, customize\n",
    "![Google Ngrams viewer: make, use, say, allow, understand, customize](https://lh3.google.com/u/0/d/1RgD0hhXPuU1PQRxYgUdHlSZTVXS5mBw3 \"Google Ngrams viewer: make, use, say, allow, understand, customize, 1960-2008)\n",
    "![Google Ngrams viewer: make, use, say, allow, understand, customize](https://lh3.google.com/u/0/d/1RgD0hhXPuU1PQRxYgUdHlSZTVXS5mBw3=w2880-h1524-iv1 \"Google Ngrams viewer: make, use, say, allow, understand, customize, 1995 (the Internet) - 2008)\n",
    "![Google Ngrams viewer: make, use, say, allow, understand, customize]( \"Google Ngrams viewer: make, use, say, allow, understand, customize, 2000 (Millenial) - 2008)\n",
    "\n",
    "* **business** words: company, design, CEO (chief executive officer), CDO (chief design officer)\n",
    "![Google Ngrams viewer: company, design, CEO (chief executive officer), CDO (chief design officer)](https://lh3.google.com/u/0/d/1Hhe-FQ_i_XDdd-rK1aXnE2RWtL30djfm=w2880-h1524-iv1 \"Google Ngrams viewer: company, design, CEO (chief executive officer), CDO (chief design officer)\")\n",
    "* **tech promises, social context**: benefits people, people can afford, could understand, users customize, device does, first time, mathematical, continuous\n",
    "![Google Ngrams viewer: benefits people, people can afford, could understand, users customize, device does, first time, mathematical, continuous](https://lh3.google.com/u/0/d/1jlOvm0rcjULzAqEjv6rGUAmGd2Qxjtft \"Google Ngrams viewer: benefits people, people can afford, could understand, users customize, device does, first time, mathematical, continuous\")"
   ]
  },
  {
   "cell_type": "markdown",
   "metadata": {},
   "source": [
    "## 3) Sentiment Analysis"
   ]
  },
  {
   "cell_type": "markdown",
   "metadata": {},
   "source": [
    "## 4) Keywords extraction\n",
    "\n",
    "Extracting keywords from the list of tweets created with the above process.\n",
    "\n",
    "First, tested a [Python implementation of the Rapid Automatic Keyword Extraction (RAKE) algorithm] (https://github.com/zelandiya/RAKE-tutorial)"
   ]
  },
  {
   "cell_type": "code",
   "execution_count": null,
   "metadata": {
    "collapsed": true
   },
   "outputs": [],
   "source": [
    "import Twitter_MINING.RAKEtutorial.rake as rk\n",
    "import operator\n",
    "rake_object = rk.Rake('Twitter_MINING/twitter-sentiment-analysis-stopwords.txt', 4, 3, 5) # words of minimum length 4, in groups of maximum 2, occurring at least 3 times in the text; this happens to give the best results with the particular corpus"
   ]
  },
  {
   "cell_type": "code",
   "execution_count": 15,
   "metadata": {},
   "outputs": [
    {
     "ename": "NameError",
     "evalue": "name 'rake_object' is not defined",
     "output_type": "error",
     "traceback": [
      "\u001b[0;31m---------------------------------------------------------------------------\u001b[0m",
      "\u001b[0;31mNameError\u001b[0m                                 Traceback (most recent call last)",
      "\u001b[0;32m<ipython-input-15-a0eb1d085deb>\u001b[0m in \u001b[0;36m<module>\u001b[0;34m()\u001b[0m\n\u001b[1;32m      8\u001b[0m         \u001b[0mdezeentech_str\u001b[0m \u001b[0;34m=\u001b[0m \u001b[0mdezeentech_str\u001b[0m\u001b[0;34m\u001b[0m\u001b[0m\n\u001b[1;32m      9\u001b[0m \u001b[0;31m# extract keywords\u001b[0m\u001b[0;34m\u001b[0m\u001b[0;34m\u001b[0m\u001b[0m\n\u001b[0;32m---> 10\u001b[0;31m \u001b[0mkeywords_scraped\u001b[0m \u001b[0;34m=\u001b[0m \u001b[0mrake_object\u001b[0m\u001b[0;34m.\u001b[0m\u001b[0mrun\u001b[0m\u001b[0;34m(\u001b[0m\u001b[0mdezeentech_str\u001b[0m\u001b[0;34m)\u001b[0m\u001b[0;34m\u001b[0m\u001b[0m\n\u001b[0m\u001b[1;32m     11\u001b[0m \u001b[0mprint\u001b[0m\u001b[0;34m(\u001b[0m\u001b[0mkeywords_scraped\u001b[0m\u001b[0;34m[\u001b[0m\u001b[0;34m:\u001b[0m\u001b[0;36m30\u001b[0m\u001b[0;34m]\u001b[0m\u001b[0;34m)\u001b[0m\u001b[0;34m\u001b[0m\u001b[0m\n",
      "\u001b[0;31mNameError\u001b[0m: name 'rake_object' is not defined"
     ]
    }
   ],
   "source": [
    "### SCRAPED TWEETS\n",
    "# remove \"float\" objects: convert them to strings\n",
    "dezeentech_str = ''\n",
    "for item in dezeentech:\n",
    "    try: \n",
    "        dezeentech_str += item\n",
    "    except TypeError:\n",
    "        dezeentech_str = dezeentech_str\n",
    "# extract keywords\n",
    "keywords_scraped = rake_object.run(dezeentech_str)\n",
    "print(keywords_scraped[:30])"
   ]
  },
  {
   "cell_type": "markdown",
   "metadata": {},
   "source": [
    "[('españa #opinión #bimonyourside', 18.57099292293467), ('escuela politécnica superior', 15.6), ('photographer aurélien villette', 14.916666666666666), ('cataluña son favorables', 14.20563909774436), ('tecnología #bim transformará', 12.62938613111027), ('stéphane côté', 11.93985260770975), ('cataluña implantará', 10.148496240601503), ('españa prevé', 9.4496336996337), ('un vídeo', 9.273488865323436), ('tres años', 9.244505494505495), ('españa y', 9.175949489107385), ('cheese sandwich modeled', 9.0), ('/gr4qzza2ix #wib #wia…', 9.0), ('@portofrotterdam @ramlabnl aim', 9.0), ('roaring tide productions', 9.0), ('simulating watercolor paints', 9.0), ('staircase crush @gemeentemuseum', 9.0), ('reserveer deze datum', 9.0), ('@eraikunecluster interesantes avances', 9.0), ('sleeping bags required', 9.0), ('/xlgbmdqrjv @mcavoygroup @hadeelsafaa…', 9.0), ('f1 champ @lewishamilton', 9.0), ('veauthier meyer architekten', 9.0), ('#iluminación @icandela_com', 8.99635922330097), ('aprende cómo', 8.960884353741497), ('las ediciones anteriores', 8.921052631578947), ('audio cassette tape', 8.86111111111111), ('un referente internac…', 8.75609756097561), ('un precio especial', 8.75609756097561)]"
   ]
  },
  {
   "cell_type": "markdown",
   "metadata": {},
   "source": [
    "Results are not that convincing and do not reflect the word frequency represented before. Also, they depend a lot on the parameters with which Rake is called (word length, word group size, occurrence). Below are the best results:\n",
    "\n",
    "### Keyword Extraction: Parser\n",
    "\n",
    "Another small script: [keyword_extraction_w_parser](https://github.com/naushadzaman/keyword-extraction-from-tweets) (made for twitter specifically) provides a very flexible way to extract keywords, and works relatively well with the entire collection of tweets converted into a single string (as explained in: Preprocessing the text of tweets). For this purpose, I modified the string to include #hashtags and @mentions."
   ]
  },
  {
   "cell_type": "code",
   "execution_count": 16,
   "metadata": {},
   "outputs": [
    {
     "ename": "NameError",
     "evalue": "name 'reload' is not defined",
     "output_type": "error",
     "traceback": [
      "\u001b[0;31m---------------------------------------------------------------------------\u001b[0m",
      "\u001b[0;31mNameError\u001b[0m                                 Traceback (most recent call last)",
      "\u001b[0;32m<ipython-input-16-29636bf61ee0>\u001b[0m in \u001b[0;36m<module>\u001b[0;34m()\u001b[0m\n\u001b[0;32m----> 1\u001b[0;31m \u001b[0;32mimport\u001b[0m \u001b[0mTwitter_MINING\u001b[0m\u001b[0;34m.\u001b[0m\u001b[0mkeyword_extraction_w_parser\u001b[0m \u001b[0;32mas\u001b[0m \u001b[0mkep\u001b[0m\u001b[0;34m\u001b[0m\u001b[0m\n\u001b[0m\u001b[1;32m      2\u001b[0m \u001b[0mkeywords_2_scraped\u001b[0m\u001b[0;34m=\u001b[0m\u001b[0mkep\u001b[0m\u001b[0;34m.\u001b[0m\u001b[0mget_keywords\u001b[0m\u001b[0;34m(\u001b[0m\u001b[0mdezeentech_str\u001b[0m\u001b[0;34m)\u001b[0m\u001b[0;34m\u001b[0m\u001b[0m\n\u001b[1;32m      3\u001b[0m \u001b[0mprint\u001b[0m\u001b[0;34m(\u001b[0m\u001b[0mkeywords_2_scraped\u001b[0m\u001b[0;34m[\u001b[0m\u001b[0;36m0\u001b[0m\u001b[0;34m]\u001b[0m\u001b[0;34m)\u001b[0m\u001b[0;34m\u001b[0m\u001b[0m\n",
      "\u001b[0;32m~/code/Twitter_MINING/keyword_extraction_w_parser.py\u001b[0m in \u001b[0;36m<module>\u001b[0;34m()\u001b[0m\n\u001b[1;32m     13\u001b[0m \u001b[0mfilepath\u001b[0m \u001b[0;34m=\u001b[0m \u001b[0mos\u001b[0m\u001b[0;34m.\u001b[0m\u001b[0mpath\u001b[0m\u001b[0;34m.\u001b[0m\u001b[0mabspath\u001b[0m\u001b[0;34m(\u001b[0m\u001b[0mos\u001b[0m\u001b[0;34m.\u001b[0m\u001b[0mpath\u001b[0m\u001b[0;34m.\u001b[0m\u001b[0mdirname\u001b[0m\u001b[0;34m(\u001b[0m\u001b[0m__file__\u001b[0m\u001b[0;34m)\u001b[0m\u001b[0;34m)\u001b[0m\u001b[0;34m\u001b[0m\u001b[0m\n\u001b[1;32m     14\u001b[0m \u001b[0;34m\u001b[0m\u001b[0m\n\u001b[0;32m---> 15\u001b[0;31m \u001b[0mreload\u001b[0m\u001b[0;34m(\u001b[0m\u001b[0msys\u001b[0m\u001b[0;34m)\u001b[0m\u001b[0;34m\u001b[0m\u001b[0m\n\u001b[0m\u001b[1;32m     16\u001b[0m \u001b[0;34m\u001b[0m\u001b[0m\n\u001b[1;32m     17\u001b[0m \u001b[0;31m#sys.setdefaultencoding('utf8')\u001b[0m\u001b[0;34m\u001b[0m\u001b[0;34m\u001b[0m\u001b[0m\n",
      "\u001b[0;31mNameError\u001b[0m: name 'reload' is not defined"
     ]
    }
   ],
   "source": [
    "import Twitter_MINING.keyword_extraction_w_parser as kep\n",
    "keywords_2_scraped=kep.get_keywords(dezeentech_str)\n",
    "print(keywords_2_scraped[0])"
   ]
  },
  {
   "cell_type": "code",
   "execution_count": null,
   "metadata": {
    "collapsed": true
   },
   "outputs": [],
   "source": []
  }
 ],
 "metadata": {
  "kernelspec": {
   "display_name": "Python 3",
   "language": "python",
   "name": "python3"
  },
  "language_info": {
   "codemirror_mode": {
    "name": "ipython",
    "version": 3
   },
   "file_extension": ".py",
   "mimetype": "text/x-python",
   "name": "python",
   "nbconvert_exporter": "python",
   "pygments_lexer": "ipython3",
   "version": "3.6.3"
  }
 },
 "nbformat": 4,
 "nbformat_minor": 2
}
