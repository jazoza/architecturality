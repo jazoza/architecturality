{
 "cells": [
  {
   "cell_type": "code",
   "execution_count": 2,
   "metadata": {},
   "outputs": [
    {
     "name": "stdout",
     "output_type": "stream",
     "text": [
      "Python 2.7.14 :: Anaconda, Inc.\r\n"
     ]
    }
   ],
   "source": [
    "!python --version"
   ]
  },
  {
   "cell_type": "markdown",
   "metadata": {},
   "source": [
    "(need to run this notebook using: jupyter notebook --NotebookApp.iopub_data_rate_limit=10000000000)\n",
    "\n",
    "1. Take a square out of the center of each image equal to the shortest edge\n",
    "1. Redimension the square so that all squares are of equal size\n",
    "1. Reshape it into a tiling\n",
    "1. Append the tiled arrays to a single DataFrame of width equal to the size of one tile as a 1D vector multiplied by 3 RGB channels\n",
    "1. Run a 1D SOM on a random selection of the tiles (this will constitute the alphabet of the images)\n",
    "1. Project them back to all the tiles\n",
    "1. Reshape the array back into tiles where the BMU replaces the RGB pixels of each tile (this is the signature of each image).\n",
    "1. Run another SOM\n"
   ]
  },
  {
   "cell_type": "code",
   "execution_count": null,
   "metadata": {},
   "outputs": [],
   "source": [
    "import random\n",
    "from PIL import Image\n",
    "import numpy as np\n",
    "#%load_ext autotime\n",
    "from matplotlib import pyplot as plt\n",
    "%matplotlib inline\n",
    "#import sompylib.sompy as SOM\n",
    "import sompy \n",
    "#from sompy import denormalize_by\n",
    "#import datetime"
   ]
  }
 ],
 "metadata": {
  "kernelspec": {
   "display_name": "Python 2",
   "language": "python",
   "name": "python2"
  },
  "language_info": {
   "codemirror_mode": {
    "name": "ipython",
    "version": 2
   },
   "file_extension": ".py",
   "mimetype": "text/x-python",
   "name": "python",
   "nbconvert_exporter": "python",
   "pygments_lexer": "ipython2",
   "version": "2.7.14"
  }
 },
 "nbformat": 4,
 "nbformat_minor": 2
}
